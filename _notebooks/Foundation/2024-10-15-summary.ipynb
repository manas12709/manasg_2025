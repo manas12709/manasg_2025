{
 "cells": [
  {
   "cell_type": "raw",
   "metadata": {
    "vscode": {
     "languageId": "raw"
    }
   },
   "source": [
    "---\n",
    "layout: post\n",
    "title: Summary of all lessons\n",
    "description:  Providing a summary of all lesons, assignment for sprint 2 final \n",
    "courses: { csp: {week 1} } \n",
    "comments: true\n",
    "permalink: /lesson/summary/\n",
    "---"
   ]
  }
 ],
 "metadata": {
  "language_info": {
   "name": "python"
  }
 },
 "nbformat": 4,
 "nbformat_minor": 2
}
