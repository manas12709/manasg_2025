{
 "cells": [
  {
   "cell_type": "raw",
   "metadata": {
    "vscode": {
     "languageId": "raw"
    }
   },
   "source": [
    "---\n",
    "layout: post\n",
    "title: Base 64\n",
    "description: Base 64 Homework And Popcorn Hacks\n",
    "permalink: /base/\n",
    "comments: true\n",
    "---"
   ]
  },
  {
   "cell_type": "markdown",
   "metadata": {},
   "source": [
    "# Popcorn hack 1\n",
    "\n",
    "## You should use the PNG (Portable Network Graphics) format for an image with a transparent background that needs to stay sharp on any screen. PNG supports lossless compression, which means the image won’t lose quality, and it also supports transparency, allowing parts of the image to be see-through. This makes it perfect for logos, icons, or graphics that need to look crisp on all screen sizes and devices. Unlike JPEG, which doesn’t support transparency and may blur details, PNG keeps edges sharp and colors accurate.\n",
    "\n"
   ]
  },
  {
   "cell_type": "markdown",
   "metadata": {},
   "source": [
    "# Popcorn hack 2\n",
    "\n",
    "## One downside of Base64 in the real world is that it makes files larger—about 33% bigger than the original binary version. This means it can slow down website loading times if you’re using it to embed lots of images or large files directly into HTML or CSS. Instead of loading images separately, everything is loaded at once, which can hurt performance, especially on slow networks.\n",
    "\n"
   ]
  },
  {
   "cell_type": "markdown",
   "metadata": {},
   "source": [
    "# Homework hack\n",
    "\n",
    "🔹 What is a hex color code?\n",
    "A hex color code is a 6-digit code used in web design to represent colors. It starts with a # and uses hexadecimal values (0–9, A–F) to define the amount of red, green, and blue (RGB).\n",
    "Examples:\n",
    "\n",
    "#FF0000 = Red\n",
    "#00FF00 = Green\n",
    "#0000FF = Blue\n",
    "#FFFFFF = White\n",
    "#000000 = Black\n",
    "🛠 Application to my work:\n",
    "I use hex codes to customize the colors of buttons and text in my web projects (like in my fridge API design!).\n",
    "\n",
    "🔹 What is Base64 and how is it used with images?\n",
    "Base64 is a way to turn binary data (like an image file) into text using only letters, numbers, and symbols. This is useful for embedding images directly into HTML, CSS, or Python code without needing an external file.\n",
    "\n",
    "🛠 Application to my work:\n",
    "I can store small icons or logos as Base64 strings in my web app to keep everything in one file and reduce server requests.\n",
    "\n",
    "🔹 Why might you use Base64 instead of a regular image file?\n",
    "You might use Base64 when:\n",
    "\n",
    "You want to embed an image directly into code (no separate file needed)\n",
    "You want to reduce HTTP requests for small images\n",
    "You’re working in environments where loading files from a path is hard (like email or certain notebooks)\n",
    "📉 But remember: Base64 makes the image 33% bigger, so it’s best for small files only.\n",
    "\n",
    "\n"
   ]
  }
 ],
 "metadata": {
  "language_info": {
   "name": "python"
  }
 },
 "nbformat": 4,
 "nbformat_minor": 2
}
