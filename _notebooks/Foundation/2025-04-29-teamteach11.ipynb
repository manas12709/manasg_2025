{
 "cells": [
  {
   "cell_type": "raw",
   "metadata": {
    "vscode": {
     "languageId": "raw"
    }
   },
   "source": [
    "---\n",
    "layout: post\n",
    "title: Binary Base 2 Math & BI 3 Logic Gates \n",
    "description: Binary Base 2 & BI 3 Logic Gates Math Homework And Popcorn Hacks\n",
    "permalink: /math/\n",
    "comments: true\n",
    "---"
   ]
  },
  {
   "cell_type": "markdown",
   "metadata": {},
   "source": [
    "# Logic Gates"
   ]
  },
  {
   "cell_type": "markdown",
   "metadata": {},
   "source": [
    "Great! Let's go through each part of your assignment step by step.\n",
    "\n",
    "---\n",
    "\n",
    "### **🍿 Popcorn Hack – Real-world Uses of Logic Gates**\n",
    "\n",
    "**Logic gates** form the foundation of all digital electronics. They process binary inputs to produce a binary output and can be combined in various ways to perform complex tasks. Below are a few **real-world implementations** of logic gates and their **impacts**:\n",
    "\n",
    "#### 1. **Authorization Systems (AND Gate)**\n",
    "**Purpose:** Granting access only when multiple conditions are met, such as a keycard **AND** a PIN code.  \n",
    "**Impact:** Increases **security**—a system using multiple verification layers (multi-factor authentication) is harder to breach. This prevents unauthorized access, which is essential in places like **banks, research labs, or corporate servers**.\n",
    "\n",
    "#### 2. **Alarm Systems (OR Gate)**\n",
    "**Purpose:** Triggering an alarm if **any** condition is true (e.g., a window OR a door is open).  \n",
    "**Impact:** Ensures **safety** by responding to multiple input threats. It's used in **homes and vehicles** to detect break-ins.\n",
    "\n",
    "#### 3. **Traffic Light Controllers (Combination of Gates)**\n",
    "**Purpose:** Manage traffic flow based on sensor inputs and timing logic.  \n",
    "**Impact:** Improves **efficiency** and **safety** on roads by ensuring proper vehicle coordination.\n",
    "\n",
    "#### 4. **Arithmetic Units (XOR, AND, OR)**\n",
    "**Purpose:** Perform basic arithmetic (e.g., addition using XOR and AND gates).  \n",
    "**Impact:** Supports all forms of **computing**—calculators, phones, and CPUs use these gates to process data.\n",
    "\n",
    "---\n",
    "\n",
    "### **🍿 Popcorn Hack 2 – Logic Expression**\n",
    "\n",
    "> **Question:** A circuit outputs `1` if **X AND Y are both 1**, **OR Z is 1**.\n",
    "\n",
    "Let's write that in logical terms:\n",
    "- Output = `(X AND Y) OR Z`\n",
    "\n",
    "**✅ Correct Answer: A. (X AND Y) OR Z**\n",
    "\n",
    "Let’s quickly test it:\n",
    "- If `X=1`, `Y=1`, `Z=0` → Output = `(1 AND 1) OR 0` = `1`\n",
    "- If `X=0`, `Y=0`, `Z=1` → Output = `0 OR 1` = `1`\n",
    "- If `X=0`, `Y=1`, `Z=0` → Output = `0 OR 0` = `0`\n",
    "\n",
    "Matches the description exactly.\n",
    "\n",
    "---\n",
    "\n",
    "### **🧠 Homework Hack – Secure Entry System (Extended)**\n",
    "\n",
    "Here’s the updated code:\n",
    "\n",
    "```python\n",
    "def secure_entry_system(keycard, pin, voice_auth):\n",
    "    def AND(a, b):\n",
    "        return a & b  # AND logic\n",
    "    \n",
    "    # First check keycard and pin\n",
    "    first_check = AND(keycard, pin)\n",
    "    \n",
    "    # Then check result of first_check with voice_auth\n",
    "    return AND(first_check, voice_auth)\n",
    "\n",
    "# Test cases\n",
    "print(secure_entry_system(1, 1, 1))  # Expected Output: 1 (Access Granted)\n",
    "print(secure_entry_system(1, 0, 1))  # Expected Output: 0 (Access Denied)\n",
    "print(secure_entry_system(1, 1, 0))  # Expected Output: 0 (Access Denied)\n",
    "```\n",
    "\n",
    "### 💡 Why is this helpful?\n",
    "Adding a **third layer** like voice authorization simulates **multi-factor authentication (MFA)**, which is crucial in modern cybersecurity. It greatly reduces the chance of unauthorized access even if one method (like a PIN) is compromised.\n",
    "\n",
    "---\n"
   ]
  },
  {
   "cell_type": "markdown",
   "metadata": {},
   "source": [
    "# Base 2 Math "
   ]
  },
  {
   "cell_type": "markdown",
   "metadata": {},
   "source": [
    "# Popcorn Hack 1 - Binary to Decimal Converter"
   ]
  },
  {
   "cell_type": "code",
   "execution_count": 2,
   "metadata": {},
   "outputs": [
    {
     "name": "stdout",
     "output_type": "stream",
     "text": [
      "The decimal representation of 3 is 3.\n"
     ]
    }
   ],
   "source": [
    "def binary_to_decimal(binary_str):\n",
    "    decimal = 0\n",
    "    for i in range(len(binary_str)):\n",
    "        decimal += int(binary_str[-(i + 1)]) * (2 ** i)\n",
    "    return decimal\n",
    "\n",
    "#Get user input\n",
    "binary_input = input(\"Enter a binary number: \")\n",
    "decimal_output = binary_to_decimal(binary_input)\n",
    "print(f\"The decimal representation of {binary_input} is {decimal_output}.\")"
   ]
  },
  {
   "cell_type": "markdown",
   "metadata": {},
   "source": [
    "# Popcorn Hack 2 - Binary Addition Battle"
   ]
  },
  {
   "cell_type": "code",
   "execution_count": 3,
   "metadata": {},
   "outputs": [
    {
     "name": "stdout",
     "output_type": "stream",
     "text": [
      "Add the following binary numbers:\n",
      "Number 1: 11000011\n",
      "Number 2: 101110\n",
      "Oops! The correct answer was 11110001.\n",
      "Your score: -5 points.\n"
     ]
    }
   ],
   "source": [
    "import random\n",
    "import time\n",
    "\n",
    "def binary_addition_battle():\n",
    "    # Generate two random binary numbers (up to 8 bits)\n",
    "    num1 = bin(random.randint(0, 255))[2:]\n",
    "    num2 = bin(random.randint(0, 255))[2:]\n",
    "    \n",
    "    # Show the binary numbers\n",
    "    print(f\"Add the following binary numbers:\")\n",
    "    print(f\"Number 1: {num1}\")\n",
    "    print(f\"Number 2: {num2}\")\n",
    "    \n",
    "    # Start the timer\n",
    "    start_time = time.time()\n",
    "    \n",
    "    # Ask the user for the sum\n",
    "    user_answer = input(\"Your answer (in binary): \")\n",
    "    \n",
    "    # End the timer\n",
    "    end_time = time.time()\n",
    "    \n",
    "    # Calculate the correct binary sum\n",
    "    correct_answer = bin(int(num1, 2) + int(num2, 2))[2:]\n",
    "    \n",
    "    # Check if the answer is correct\n",
    "    if user_answer == correct_answer:\n",
    "        print(f\"Correct! You took {end_time - start_time:.2f} seconds.\")\n",
    "        print(f\"Your score: +10 points!\")\n",
    "    else:\n",
    "        print(f\"Oops! The correct answer was {correct_answer}.\")\n",
    "        print(f\"Your score: -5 points.\")\n",
    "\n",
    "# Run the game\n",
    "binary_addition_battle()"
   ]
  },
  {
   "cell_type": "markdown",
   "metadata": {},
   "source": [
    "# Homework Hack"
   ]
  },
  {
   "cell_type": "code",
   "execution_count": 5,
   "metadata": {},
   "outputs": [
    {
     "name": "stdout",
     "output_type": "stream",
     "text": [
      "👾 Welcome to Binary Battle Royale! 👾\n",
      "\n",
      "⚡ Round 1 ⚡\n",
      "Add these two binary numbers: 10 + 1110\n",
      "❌ Incorrect. The correct answer was 10000.\n",
      "\n",
      "⚡ Round 2 ⚡\n",
      "Convert this decimal number to binary: 0\n",
      "❌ Incorrect. The correct answer was 0.\n",
      "\n",
      "⚡ Round 3 ⚡\n",
      "Convert this decimal number to binary: 19\n",
      "❌ Incorrect. The correct answer was 10011.\n",
      "\n",
      "🏆 Game Over! 🏆\n",
      "Your final score: 0/3\n",
      "💡 Don't worry — review the rules and try again!\n"
     ]
    }
   ],
   "source": [
    "import random\n",
    "import time\n",
    "\n",
    "def binary_addition(a, b):\n",
    "    return bin(int(a, 2) + int(b, 2))[2:]\n",
    "\n",
    "def binary_subtraction(a, b):\n",
    "    if int(a, 2) < int(b, 2):\n",
    "        return \"Error\"\n",
    "    return bin(int(a, 2) - int(b, 2))[2:]\n",
    "\n",
    "def decimal_to_binary(n):\n",
    "    return bin(n)[2:]\n",
    "\n",
    "def binary_to_decimal(b):\n",
    "    return int(b, 2)\n",
    "\n",
    "def binary_battle_royale():\n",
    "    print(\"👾 Welcome to Binary Battle Royale! 👾\")\n",
    "    score = 0\n",
    "    total_rounds = 3\n",
    "\n",
    "    for round_num in range(1, total_rounds + 1):\n",
    "        print(f\"\\n⚡ Round {round_num} ⚡\")\n",
    "        mode = random.choice([\"addition\", \"subtraction\", \"dec_to_bin\", \"bin_to_dec\"])\n",
    "\n",
    "        if mode == \"addition\":\n",
    "            num1 = bin(random.randint(0, 15))[2:]\n",
    "            num2 = bin(random.randint(0, 15))[2:]\n",
    "            print(f\"Add these two binary numbers: {num1} + {num2}\")\n",
    "            user_answer = input(\"Your answer (binary): \").strip()\n",
    "            correct_answer = binary_addition(num1, num2)\n",
    "            if user_answer == correct_answer:\n",
    "                print(\"✅ Correct!\")\n",
    "                score += 1\n",
    "            else:\n",
    "                print(f\"❌ Incorrect. The correct answer was {correct_answer}.\")\n",
    "\n",
    "        elif mode == \"subtraction\":\n",
    "            num1_val = random.randint(8, 31)\n",
    "            num2_val = random.randint(0, num1_val)\n",
    "            num1 = bin(num1_val)[2:]\n",
    "            num2 = bin(num2_val)[2:]\n",
    "            print(f\"Subtract these two binary numbers: {num1} - {num2}\")\n",
    "            user_answer = input(\"Your answer (binary): \").strip()\n",
    "            correct_answer = binary_subtraction(num1, num2)\n",
    "            if user_answer == correct_answer:\n",
    "                print(\"✅ Correct!\")\n",
    "                score += 1\n",
    "            else:\n",
    "                print(f\"❌ Incorrect. The correct answer was {correct_answer}.\")\n",
    "\n",
    "        elif mode == \"dec_to_bin\":\n",
    "            decimal_number = random.randint(0, 31)\n",
    "            print(f\"Convert this decimal number to binary: {decimal_number}\")\n",
    "            user_answer = input(\"Your answer (binary): \").strip()\n",
    "            correct_answer = decimal_to_binary(decimal_number)\n",
    "            if user_answer == correct_answer:\n",
    "                print(\"✅ Correct!\")\n",
    "                score += 1\n",
    "            else:\n",
    "                print(f\"❌ Incorrect. The correct answer was {correct_answer}.\")\n",
    "\n",
    "        elif mode == \"bin_to_dec\":\n",
    "            binary_number = bin(random.randint(0, 31))[2:]\n",
    "            print(f\"Convert this binary number to decimal: {binary_number}\")\n",
    "            user_answer = input(\"Your answer (decimal): \").strip()\n",
    "            correct_answer = str(binary_to_decimal(binary_number))\n",
    "            if user_answer == correct_answer:\n",
    "                print(\"✅ Correct!\")\n",
    "                score += 1\n",
    "            else:\n",
    "                print(f\"❌ Incorrect. The correct answer was {correct_answer}.\")\n",
    "\n",
    "    print(\"\\n🏆 Game Over! 🏆\")\n",
    "    print(f\"Your final score: {score}/{total_rounds}\")\n",
    "    if score == total_rounds:\n",
    "        print(\"🌟 Amazing job! You're a Binary Master!\")\n",
    "    elif score >= total_rounds // 2:\n",
    "        print(\"👍 Good effort! Keep practicing!\")\n",
    "    else:\n",
    "        print(\"💡 Don't worry — review the rules and try again!\")\n",
    "\n",
    "# --- Start the game ---\n",
    "binary_battle_royale()"
   ]
  },
  {
   "cell_type": "markdown",
   "metadata": {},
   "source": [
    "## Explain in 1-2 sentences how to convert a binary number into a decimal number. - To convert a binary number to a decimal, multiply each bit by 2 raised to its position power (starting from right to left at position 0), then add the results.  \n",
    "\n",
    "## If you are given the binary number 11111111, what decimal number is that? - For the binary number `11111111`, the decimal equivalent is **255**."
   ]
  }
 ],
 "metadata": {
  "kernelspec": {
   "display_name": "venv",
   "language": "python",
   "name": "python3"
  },
  "language_info": {
   "codemirror_mode": {
    "name": "ipython",
    "version": 3
   },
   "file_extension": ".py",
   "mimetype": "text/x-python",
   "name": "python",
   "nbconvert_exporter": "python",
   "pygments_lexer": "ipython3",
   "version": "3.12.5"
  }
 },
 "nbformat": 4,
 "nbformat_minor": 2
}
