{
 "cells": [
  {
   "cell_type": "raw",
   "metadata": {
    "vscode": {
     "languageId": "raw"
    }
   },
   "source": [
    "---\n",
    "layout: post\n",
    "title: Binary Base 2 Math \n",
    "description: Binary Base 2 Math Homework And Popcorn Hacks\n",
    "permalink: /math/\n",
    "comments: true\n",
    "---"
   ]
  },
  {
   "cell_type": "markdown",
   "metadata": {},
   "source": [
    "Great! Let's go through each part of your assignment step by step.\n",
    "\n",
    "---\n",
    "\n",
    "### **🍿 Popcorn Hack – Real-world Uses of Logic Gates**\n",
    "\n",
    "**Logic gates** form the foundation of all digital electronics. They process binary inputs to produce a binary output and can be combined in various ways to perform complex tasks. Below are a few **real-world implementations** of logic gates and their **impacts**:\n",
    "\n",
    "#### 1. **Authorization Systems (AND Gate)**\n",
    "**Purpose:** Granting access only when multiple conditions are met, such as a keycard **AND** a PIN code.  \n",
    "**Impact:** Increases **security**—a system using multiple verification layers (multi-factor authentication) is harder to breach. This prevents unauthorized access, which is essential in places like **banks, research labs, or corporate servers**.\n",
    "\n",
    "#### 2. **Alarm Systems (OR Gate)**\n",
    "**Purpose:** Triggering an alarm if **any** condition is true (e.g., a window OR a door is open).  \n",
    "**Impact:** Ensures **safety** by responding to multiple input threats. It's used in **homes and vehicles** to detect break-ins.\n",
    "\n",
    "#### 3. **Traffic Light Controllers (Combination of Gates)**\n",
    "**Purpose:** Manage traffic flow based on sensor inputs and timing logic.  \n",
    "**Impact:** Improves **efficiency** and **safety** on roads by ensuring proper vehicle coordination.\n",
    "\n",
    "#### 4. **Arithmetic Units (XOR, AND, OR)**\n",
    "**Purpose:** Perform basic arithmetic (e.g., addition using XOR and AND gates).  \n",
    "**Impact:** Supports all forms of **computing**—calculators, phones, and CPUs use these gates to process data.\n",
    "\n",
    "---\n",
    "\n",
    "### **🍿 Popcorn Hack 2 – Logic Expression**\n",
    "\n",
    "> **Question:** A circuit outputs `1` if **X AND Y are both 1**, **OR Z is 1**.\n",
    "\n",
    "Let's write that in logical terms:\n",
    "- Output = `(X AND Y) OR Z`\n",
    "\n",
    "**✅ Correct Answer: A. (X AND Y) OR Z**\n",
    "\n",
    "Let’s quickly test it:\n",
    "- If `X=1`, `Y=1`, `Z=0` → Output = `(1 AND 1) OR 0` = `1`\n",
    "- If `X=0`, `Y=0`, `Z=1` → Output = `0 OR 1` = `1`\n",
    "- If `X=0`, `Y=1`, `Z=0` → Output = `0 OR 0` = `0`\n",
    "\n",
    "Matches the description exactly.\n",
    "\n",
    "---\n",
    "\n",
    "### **🧠 Homework Hack – Secure Entry System (Extended)**\n",
    "\n",
    "Here’s the updated code:\n",
    "\n",
    "```python\n",
    "def secure_entry_system(keycard, pin, voice_auth):\n",
    "    def AND(a, b):\n",
    "        return a & b  # AND logic\n",
    "    \n",
    "    # First check keycard and pin\n",
    "    first_check = AND(keycard, pin)\n",
    "    \n",
    "    # Then check result of first_check with voice_auth\n",
    "    return AND(first_check, voice_auth)\n",
    "\n",
    "# Test cases\n",
    "print(secure_entry_system(1, 1, 1))  # Expected Output: 1 (Access Granted)\n",
    "print(secure_entry_system(1, 0, 1))  # Expected Output: 0 (Access Denied)\n",
    "print(secure_entry_system(1, 1, 0))  # Expected Output: 0 (Access Denied)\n",
    "```\n",
    "\n",
    "### 💡 Why is this helpful?\n",
    "Adding a **third layer** like voice authorization simulates **multi-factor authentication (MFA)**, which is crucial in modern cybersecurity. It greatly reduces the chance of unauthorized access even if one method (like a PIN) is compromised.\n",
    "\n",
    "---\n"
   ]
  }
 ],
 "metadata": {
  "language_info": {
   "name": "python"
  }
 },
 "nbformat": 4,
 "nbformat_minor": 2
}
