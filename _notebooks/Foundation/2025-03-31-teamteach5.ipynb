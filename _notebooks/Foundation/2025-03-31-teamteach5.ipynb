{
 "cells": [
  {
   "cell_type": "raw",
   "metadata": {
    "vscode": {
     "languageId": "raw"
    }
   },
   "source": [
    "---\n",
    "layout: post\n",
    "title: Legal and Ethical Issues in Computing Classwork and Homework\n",
    "description: Legal and Ethical Issues in Computing Classwork and Homework \n",
    "permalink: /legal/\n",
    "comments: true\n",
    "---"
   ]
  },
  {
   "cell_type": "markdown",
   "metadata": {},
   "source": [
    "# Popcorn Hack 1"
   ]
  },
  {
   "cell_type": "markdown",
   "metadata": {},
   "source": [
    "There are several effective ways to protect intellectual property (IP). One common method is registering **trademarks**, which safeguard brand names, logos, and slogans that distinguish products or services in the marketplace. Another is registering **copyrights**, which protect original works of authorship such as books, music, films, software, and artwork, giving the creator exclusive rights to reproduce and distribute their work. **Patents** are used to protect inventions, processes, or designs that are new and useful, granting the inventor exclusive rights for a certain period. Additionally, **nondisclosure agreements (NDAs)** are legal contracts that help protect sensitive information by ensuring that individuals or companies keep proprietary details confidential. These tools are essential for securing the value and integrity of creative and innovative work."
   ]
  },
  {
   "cell_type": "markdown",
   "metadata": {},
   "source": [
    "# Popcorn Hack 2"
   ]
  },
  {
   "cell_type": "markdown",
   "metadata": {},
   "source": [
    "\n",
    "---\n",
    "\n",
    "### **MIT License - Definition**  \n",
    "The **MIT License** is a short and simple open-source software license. It allows anyone to use, copy, modify, merge, publish, distribute, sublicense, and sell copies of the software. The only requirement is that the original license and copyright notice are included in all copies or substantial portions of the software. It's permissive, meaning it allows for both open-source and proprietary use.\n",
    "\n",
    "---\n",
    "\n",
    "### **What an MIT License Would Look Like in Your Own Repository**\n",
    "\n",
    "You’d include a `LICENSE` file in the root of your repo with content like this:\n",
    "\n",
    "```txt\n",
    "MIT License\n",
    "\n",
    "Copyright (c) 2025 [manas12709]\n",
    "\n",
    "Permission is hereby granted, free of charge, to any person obtaining a copy\n",
    "of this software and associated documentation files (the \"Software\"), to deal\n",
    "in the Software without restriction, including without limitation the rights\n",
    "to use, copy, modify, merge, publish, distribute, sublicense, and/or sell\n",
    "copies of the Software, and to permit persons to whom the Software is\n",
    "furnished to do so, subject to the following conditions:\n",
    "\n",
    "The above copyright notice and this permission notice shall be included in all\n",
    "copies or substantial portions of the Software.\n",
    "\n",
    "THE SOFTWARE IS PROVIDED \"AS IS\", WITHOUT WARRANTY OF ANY KIND, EXPRESS OR\n",
    "IMPLIED, INCLUDING BUT NOT LIMITED TO THE WARRANTIES OF MERCHANTABILITY,\n",
    "FITNESS FOR A PARTICULAR PURPOSE AND NONINFRINGEMENT. IN NO EVENT SHALL THE\n",
    "AUTHORS OR COPYRIGHT HOLDERS BE LIABLE FOR ANY CLAIM, DAMAGES OR OTHER\n",
    "LIABILITY, WHETHER IN AN ACTION OF CONTRACT, TORT OR OTHERWISE, ARISING FROM,\n",
    "OUT OF OR IN CONNECTION WITH THE SOFTWARE OR THE USE OR OTHER DEALINGS IN THE\n",
    "SOFTWARE.\n",
    "```\n"
   ]
  },
  {
   "cell_type": "markdown",
   "metadata": {},
   "source": [
    "# Popcorn Hack 3"
   ]
  },
  {
   "cell_type": "markdown",
   "metadata": {},
   "source": [
    "\n",
    "---\n",
    "\n",
    "A **Creative Commons (CC) License** is a type of public copyright license that enables creators to share their work with others while retaining some rights. It allows authors to specify how others can use their work — for example, whether it's okay to remix, share commercially, or only use with attribution. There are several types of CC licenses, ranging from very permissive (like CC BY, which only requires credit) to more restrictive ones (like CC BY-NC-ND, which doesn’t allow commercial use or modifications).\n",
    "\n",
    "There are also **exceptions to copyright law**, known as *fair use* or *fair dealing* (depending on the country), which allow limited use of copyrighted material without permission. Common examples include use for education, commentary, criticism, news reporting, parody, or research. These exceptions help balance the rights of creators with the public interest.\n",
    "\n",
    "Systems like **Creative Commons**, **open sourcing**, and **open access** have made it easier for people to share, build upon, and access intellectual work freely. These systems reduce legal and financial barriers, promoting innovation, collaboration, and wider access to knowledge and creative content.\n",
    "\n",
    "---\n"
   ]
  },
  {
   "cell_type": "markdown",
   "metadata": {},
   "source": [
    "# Homework Hack"
   ]
  },
  {
   "cell_type": "markdown",
   "metadata": {},
   "source": [
    "\n",
    "---\n",
    "\n",
    "### **Task 1: Select a License**  \n",
    "**Chosen License:** MIT License\n",
    "\n",
    "---\n",
    "\n",
    "### **Task 2: Explain Your Choice**  \n",
    "I chose the **MIT License** because it is simple, permissive, and widely used in open-source projects. This license allows anyone to use, modify, and distribute my code, even for commercial purposes, as long as they include the original license and copyright notice. It encourages collaboration and sharing without adding complex legal requirements. For my personal repo, this makes it easy for others to learn from, improve, or build on my work, while still giving me credit.\n",
    "\n",
    "---\n",
    "\n",
    "### **Task 3: Add the License to Your Repository**  \n",
    "Create a file in your project root named `LICENSE` and paste the following:\n",
    "\n",
    "```text\n",
    "MIT License\n",
    "\n",
    "Copyright (c) 2025 [manas12709]\n",
    "\n",
    "Permission is hereby granted, free of charge, to any person obtaining a copy\n",
    "of this software and associated documentation files (the \"Software\"), to deal\n",
    "in the Software without restriction, including without limitation the rights\n",
    "to use, copy, modify, merge, publish, distribute, sublicense, and/or sell\n",
    "copies of the Software, and to permit persons to whom the Software is\n",
    "furnished to do so, subject to the following conditions:\n",
    "\n",
    "The above copyright notice and this permission notice shall be included in all\n",
    "copies or substantial portions of the Software.\n",
    "\n",
    "THE SOFTWARE IS PROVIDED \"AS IS\", WITHOUT WARRANTY OF ANY KIND, EXPRESS OR\n",
    "IMPLIED, INCLUDING BUT NOT LIMITED TO THE WARRANTIES OF MERCHANTABILITY,\n",
    "FITNESS FOR A PARTICULAR PURPOSE AND NONINFRINGEMENT. IN NO EVENT SHALL THE\n",
    "AUTHORS OR COPYRIGHT HOLDERS BE LIABLE FOR ANY CLAIM, DAMAGES OR OTHER\n",
    "LIABILITY, WHETHER IN AN ACTION OF CONTRACT, TORT OR OTHERWISE, ARISING FROM,\n",
    "OUT OF OR IN CONNECTION WITH THE SOFTWARE OR THE USE OR OTHER DEALINGS IN THE\n",
    "SOFTWARE.\n",
    "```\n"
   ]
  }
 ],
 "metadata": {
  "language_info": {
   "name": "python"
  }
 },
 "nbformat": 4,
 "nbformat_minor": 2
}
