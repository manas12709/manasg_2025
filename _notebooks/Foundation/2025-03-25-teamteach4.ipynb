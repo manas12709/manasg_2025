{
 "cells": [
  {
   "cell_type": "raw",
   "metadata": {
    "vscode": {
     "languageId": "raw"
    }
   },
   "source": [
    "---\n",
    "layout: post\n",
    "title: Crowdsourcing in Computuing\n",
    "description: Crowdsourcing in Computing Classwork and Homework  \n",
    "permalink: /crowdsourcing/\n",
    "comments: true\n",
    "---"
   ]
  },
  {
   "cell_type": "markdown",
   "metadata": {},
   "source": [
    "# Popcorn Hack 3"
   ]
  },
  {
   "cell_type": "markdown",
   "metadata": {},
   "source": [
    "<h3>Duolingo, a language-learning platform, has used crowdsourcing by allowing users to translate real-world texts as part of their language practice. This method enables a large community of learners to contribute translations, improving their skills while helping refine machine-learning models for language processing. By leveraging user input, Duolingo efficiently generates and verifies translations at scale without relying solely on professional translators.</h3>"
   ]
  },
  {
   "cell_type": "markdown",
   "metadata": {},
   "source": [
    "# Homework Hack - Spotify Songs"
   ]
  },
  {
   "cell_type": "markdown",
   "metadata": {},
   "source": [
    "[Spotify Song 1](https://open.spotify.com/track/6DCZcSspjsKoFjzjrWoCdn?si=a21b209c42a745a0)\n",
    "[Spotify Song 2](https://open.spotify.com/track/0VjIjW4GlUZAMYd2vXMi3b?si=f38e3efcd4e249dd)"
   ]
  },
  {
   "cell_type": "markdown",
   "metadata": {},
   "source": [
    "# Homework Hack - Crowdsourcing Quality Harm"
   ]
  },
  {
   "cell_type": "markdown",
   "metadata": {},
   "source": [
    "<h3>Crowdsourcing can improve playlist quality by incorporating diverse music choices from a wide range of contributors, leading to a mix of genres and styles. It also helps playlists stay updated with real-time trends, as users can suggest or vote for the most popular and relevant songs. Additionally, crowdsourcing allows for personalization, as communities with shared tastes can curate playlists that cater to specific moods or themes.  \n",
    "\n",
    "However, crowdsourcing can also harm playlist quality if too many contributors add songs that do not fit the intended theme or genre, making the playlist inconsistent. It may also lead to the overrepresentation of mainstream tracks while overshadowing lesser-known but high-quality music. In some cases, playlists can become cluttered with low-quality or repetitive songs due to a lack of moderation.</h3>"
   ]
  }
 ],
 "metadata": {
  "language_info": {
   "name": "python"
  }
 },
 "nbformat": 4,
 "nbformat_minor": 2
}
