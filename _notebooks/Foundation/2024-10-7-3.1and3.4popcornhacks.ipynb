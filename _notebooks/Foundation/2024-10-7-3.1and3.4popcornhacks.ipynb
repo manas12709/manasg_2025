{
 "cells": [
  {
   "cell_type": "raw",
   "metadata": {
    "vscode": {
     "languageId": "raw"
    }
   },
   "source": [
    "---\n",
    "layout: post\n",
    "title: 3.1 and 3.4 Homework and Popcorn Hacks  \n",
    "description:  Homework and Popcorn Hacks \n",
    "courses: { csp: {week 1} } \n",
    "comments: true\n",
    "sticky_rank: 1\n",
    "toc: false\n",
    "---"
   ]
  },
  {
   "cell_type": "markdown",
   "metadata": {
    "vscode": {
     "languageId": "raw"
    }
   },
   "source": [
    "<h2>3.1 Popcorn Hacks<h2>"
   ]
  },
  {
   "cell_type": "code",
   "execution_count": 5,
   "metadata": {
    "vscode": {
     "languageId": "javascript"
    }
   },
   "outputs": [
    {
     "data": {
      "application/javascript": "\n\n// Create a dictionary (object) in JavaScript\nvar myDictionary = {\n    1: \"cherry\",\n    2: \"peach\",\n    3: \"watermelon\"\n};\n\n// Accessing a value\nconsole.log(\"Fruit with key 2:\", myDictionary[2]); // Output: fruit\n",
      "text/plain": [
       "<IPython.core.display.Javascript object>"
      ]
     },
     "metadata": {},
     "output_type": "display_data"
    }
   ],
   "source": [
    "%%js\n",
    "\n",
    "\n",
    "// Create a dictionary (object) in JavaScript\n",
    "var myDictionary = {\n",
    "    1: \"cherry\",\n",
    "    2: \"peach\",\n",
    "    3: \"watermelon\"\n",
    "};\n",
    "\n",
    "// Accessing a value\n",
    "console.log(\"Fruit with key 2:\", myDictionary[2]); // Output: fruit"
   ]
  },
  {
   "cell_type": "code",
   "execution_count": 7,
   "metadata": {},
   "outputs": [
    {
     "name": "stdout",
     "output_type": "stream",
     "text": [
      "Correct! You answered in 2.84 seconds.\n",
      "Your current score is: 1/1\n",
      "\n",
      "Thanks for playing! Your final score is 1 out of 1.\n"
     ]
    }
   ],
   "source": [
    "import random\n",
    "import time\n",
    "\n",
    "# Function to start the game\n",
    "def play_game():\n",
    "    score = 0\n",
    "    question_count = 0  # To track how many questions have been asked\n",
    "    while True:\n",
    "        # Generate two random numbers between 1 and 20\n",
    "        num1 = random.randint(1, 20)\n",
    "        num2 = random.randint(1, 20)\n",
    "        \n",
    "        # Randomly select an operator\n",
    "        operator = random.choice(['+', '-', '*', '/'])\n",
    "        \n",
    "        # Ensure no division by zero\n",
    "        if operator == '/':\n",
    "            # Regenerate num2 if it is 0\n",
    "            while num2 == 0:\n",
    "                num2 = random.randint(1, 20)\n",
    "            correct_answer = round(num1 / num2, 2)  # Round division result to 2 decimal places\n",
    "        elif operator == '+':\n",
    "            correct_answer = num1 + num2\n",
    "        elif operator == '-':\n",
    "            correct_answer = num1 - num2\n",
    "        elif operator == '*':\n",
    "            correct_answer = num1 * num2\n",
    "\n",
    "        # Start the timer\n",
    "        start_time = time.time()\n",
    "\n",
    "        # Ask the player the question\n",
    "        user_input = input(f\"What is {num1} {operator} {num2}? (Type 'q' to quit): \")\n",
    "\n",
    "        # Stop the timer\n",
    "        end_time = time.time()\n",
    "        time_taken = round(end_time - start_time, 2)  # Time taken to answer\n",
    "\n",
    "        # Quit the game if the player types 'q'\n",
    "        if user_input.lower() == 'q':\n",
    "            print(f\"Thanks for playing! Your final score is {score} out of {question_count}.\")\n",
    "            break\n",
    "\n",
    "        # Check if the input is valid (float for division)\n",
    "        try:\n",
    "            user_answer = float(user_input)\n",
    "        except ValueError:\n",
    "            print(\"Invalid input. Please enter a number or 'q' to quit.\")\n",
    "            continue\n",
    "\n",
    "        # Check if the answer is correct\n",
    "        question_count += 1\n",
    "        if user_answer == correct_answer:\n",
    "            print(f\"Correct! You answered in {time_taken} seconds.\")\n",
    "            score += 1\n",
    "        else:\n",
    "            print(f\"Wrong! The correct answer was {correct_answer}. You took {time_taken} seconds.\")\n",
    "        \n",
    "        # Display current score\n",
    "        print(f\"Your current score is: {score}/{question_count}\\n\")\n",
    "\n",
    "        # Custom messages based on score\n",
    "        if score == question_count and question_count >= 5:\n",
    "            print(\"You're on fire! Keep it up!\")\n",
    "        elif question_count > 5 and score < question_count / 2:\n",
    "            print(\"Keep practicing, you're improving!\")\n",
    "        \n",
    "# Start the game\n",
    "play_game()\n"
   ]
  },
  {
   "cell_type": "code",
   "execution_count": 14,
   "metadata": {},
   "outputs": [
    {
     "name": "stdout",
     "output_type": "stream",
     "text": [
      "Select conversion direction:\n",
      "1. Celsius to Fahrenheit\n",
      "2. Fahrenheit to Celsius\n",
      "34.0°C is 93.20°F\n"
     ]
    }
   ],
   "source": [
    "def celsius_to_fahrenheit(celsius):\n",
    "    return (celsius * 9/5) + 32\n",
    "\n",
    "def fahrenheit_to_celsius(fahrenheit):\n",
    "    return (fahrenheit - 32) * 5/9\n",
    "\n",
    "def temperature_converter():\n",
    "    # Ask user for temperature\n",
    "    temp = float(input(\"Enter the temperature: \"))\n",
    "    \n",
    "    # Ask for the desired conversion direction\n",
    "    print(\"Select conversion direction:\")\n",
    "    print(\"1. Celsius to Fahrenheit\")\n",
    "    print(\"2. Fahrenheit to Celsius\")\n",
    "    choice = input(\"Enter 1 or 2: \")\n",
    "    \n",
    "    # Perform the conversion based on user input\n",
    "    if choice == '1':\n",
    "        converted_temp = celsius_to_fahrenheit(temp)\n",
    "        print(f\"{temp}°C is {converted_temp:.2f}°F\")\n",
    "    elif choice == '2':\n",
    "        converted_temp = fahrenheit_to_celsius(temp)\n",
    "        print(f\"{temp}°F is {converted_temp:.2f}°C\")\n",
    "    else:\n",
    "        print(\"Invalid choice. Please select 1 or 2.\")\n",
    "\n",
    "# Call the function\n",
    "temperature_converter()\n"
   ]
  },
  {
   "cell_type": "code",
   "execution_count": 13,
   "metadata": {
    "vscode": {
     "languageId": "javascript"
    }
   },
   "outputs": [
    {
     "data": {
      "application/javascript": "\n// Temperature Converter in JavaScript\nlet temperature = parseFloat(prompt(\"Enter the temperature:\"));\nlet conversionType = prompt(\"Convert to (C)elsius or (F)ahrenheit?\").toUpperCase();\n\nif (conversionType === \"C\") {\n    // Convert Fahrenheit to Celsius\n    let celsius = (temperature - 32) * (5 / 9);\n    console.log(`${temperature}°F is equal to ${celsius.toFixed(2)}°C`);\n} else if (conversionType === \"F\") {\n    // Convert Celsius to Fahrenheit\n    let fahrenheit = (temperature * (9 / 5)) + 32;\n    console.log(`${temperature}°C is equal to ${fahrenheit.toFixed(2)}°F`);\n} else {\n    console.log(\"Invalid conversion type entered.\");\n}\n",
      "text/plain": [
       "<IPython.core.display.Javascript object>"
      ]
     },
     "metadata": {},
     "output_type": "display_data"
    }
   ],
   "source": [
    "%%js\n",
    "\n",
    "// Temperature Converter in JavaScript\n",
    "let temperature = parseFloat(prompt(\"Enter the temperature:\"));\n",
    "let conversionType = prompt(\"Convert to (C)elsius or (F)ahrenheit?\").toUpperCase();\n",
    "\n",
    "if (conversionType === \"C\") {\n",
    "    // Convert Fahrenheit to Celsius\n",
    "    let celsius = (temperature - 32) * (5 / 9);\n",
    "    console.log(`${temperature}°F is equal to ${celsius.toFixed(2)}°C`);\n",
    "} else if (conversionType === \"F\") {\n",
    "    // Convert Celsius to Fahrenheit\n",
    "    let fahrenheit = (temperature * (9 / 5)) + 32;\n",
    "    console.log(`${temperature}°C is equal to ${fahrenheit.toFixed(2)}°F`);\n",
    "} else {\n",
    "    console.log(\"Invalid conversion type entered.\");\n",
    "}\n"
   ]
  },
  {
   "cell_type": "markdown",
   "metadata": {},
   "source": [
    "<h2>3.1 Homework Hacks<h2>"
   ]
  },
  {
   "cell_type": "code",
   "execution_count": 15,
   "metadata": {},
   "outputs": [
    {
     "name": "stdout",
     "output_type": "stream",
     "text": [
      "Invalid price. Please enter a numeric value.\n",
      "\n",
      "Shopping List:\n",
      "apple: $2.50\n",
      "chips: $8.50\n",
      "mangos: $3.25\n",
      "ice cream: $9.50\n",
      "\n",
      "Total cost: $23.75\n"
     ]
    }
   ],
   "source": [
    "# Step 1: Initialize shopping list and total cost\n",
    "shopping_list = []\n",
    "total_cost = 0.0\n",
    "\n",
    "# Step 2: Loop for user input\n",
    "while True:\n",
    "    # Ask the user to input item name\n",
    "    item_name = input(\"Enter the item name (or type 'done' to finish): \").strip()\n",
    "    \n",
    "    # Break the loop if the user is done\n",
    "    if item_name.lower() == 'done':\n",
    "        break\n",
    "    \n",
    "    # Ask the user for the price of the item\n",
    "    try:\n",
    "        item_price = float(input(f\"Enter the price of {item_name}: \"))\n",
    "    except ValueError:\n",
    "        print(\"Invalid price. Please enter a numeric value.\")\n",
    "        continue  # Continue to next iteration if input is invalid\n",
    "    \n",
    "    # Add the item name and price as a tuple to the shopping list\n",
    "    shopping_list.append((item_name, item_price))\n",
    "    \n",
    "    # Add the price to the total cost\n",
    "    total_cost += item_price\n",
    "\n",
    "# Step 3: Output the shopping list and total cost\n",
    "print(\"\\nShopping List:\")\n",
    "for item, price in shopping_list:\n",
    "    print(f\"{item}: ${price:.2f}\")\n",
    "\n",
    "print(f\"\\nTotal cost: ${total_cost:.2f}\")\n"
   ]
  },
  {
   "cell_type": "code",
   "execution_count": 16,
   "metadata": {
    "vscode": {
     "languageId": "javascript"
    }
   },
   "outputs": [
    {
     "data": {
      "application/javascript": "\n// Step 1: Initialize conversion rates\nconst conversionRates = {\n    cupsToTablespoons: 16,\n    tablespoonsToTeaspoons: 3,\n    cupsToTeaspoons: 48\n};\n\n// Function to perform conversion\nfunction convertUnit(quantity, currentUnit, targetUnit) {\n    let convertedQuantity = 0;\n\n    if (currentUnit === 'cups' && targetUnit === 'tablespoons') {\n        convertedQuantity = quantity * conversionRates.cupsToTablespoons;\n    } else if (currentUnit === 'cups' && targetUnit === 'teaspoons') {\n        convertedQuantity = quantity * conversionRates.cupsToTeaspoons;\n    } else if (currentUnit === 'tablespoons' && targetUnit === 'teaspoons') {\n        convertedQuantity = quantity * conversionRates.tablespoonsToTeaspoons;\n    } else if (currentUnit === 'tablespoons' && targetUnit === 'cups') {\n        convertedQuantity = quantity / conversionRates.cupsToTablespoons;\n    } else if (currentUnit === 'teaspoons' && targetUnit === 'tablespoons') {\n        convertedQuantity = quantity / conversionRates.tablespoonsToTeaspoons;\n    } else if (currentUnit === 'teaspoons' && targetUnit === 'cups') {\n        convertedQuantity = quantity / conversionRates.cupsToTeaspoons;\n    } else {\n        console.log(\"Invalid conversion.\");\n        return null;\n    }\n    \n    return convertedQuantity;\n}\n\n// Step 2: Input for ingredients\nfunction recipeIngredientConverter() {\n    let ingredients = [];\n    \n    while (true) {\n        let ingredientName = prompt(\"Enter the ingredient name (or type 'done' to finish):\");\n        if (ingredientName.toLowerCase() === 'done') break;\n        \n        let quantity = parseFloat(prompt(`Enter the quantity of ${ingredientName}:`));\n        let currentUnit = prompt(`Enter the unit of ${ingredientName} (cups, tablespoons, teaspoons):`).toLowerCase();\n        let targetUnit = prompt(`Enter the unit you want to convert to (cups, tablespoons, teaspoons):`).toLowerCase();\n        \n        let convertedQuantity = convertUnit(quantity, currentUnit, targetUnit);\n        \n        if (convertedQuantity !== null) {\n            ingredients.push({\n                name: ingredientName,\n                originalQuantity: quantity,\n                originalUnit: currentUnit,\n                convertedQuantity: convertedQuantity,\n                targetUnit: targetUnit\n            });\n        }\n    }\n\n    // Step 4: Display the converted results\n    console.log(\"\\nConverted Recipe Ingredients:\");\n    ingredients.forEach(ingredient => {\n        console.log(`${ingredient.originalQuantity} ${ingredient.originalUnit} of ${ingredient.name} is equal to ${ingredient.convertedQuantity.toFixed(2)} ${ingredient.targetUnit}`);\n    });\n}\n\n// Call the function\nrecipeIngredientConverter();\n",
      "text/plain": [
       "<IPython.core.display.Javascript object>"
      ]
     },
     "metadata": {},
     "output_type": "display_data"
    }
   ],
   "source": [
    "%%js\n",
    "\n",
    "// Step 1: Initialize conversion rates\n",
    "const conversionRates = {\n",
    "    cupsToTablespoons: 16,\n",
    "    tablespoonsToTeaspoons: 3,\n",
    "    cupsToTeaspoons: 48\n",
    "};\n",
    "\n",
    "// Function to perform conversion\n",
    "function convertUnit(quantity, currentUnit, targetUnit) {\n",
    "    let convertedQuantity = 0;\n",
    "\n",
    "    if (currentUnit === 'cups' && targetUnit === 'tablespoons') {\n",
    "        convertedQuantity = quantity * conversionRates.cupsToTablespoons;\n",
    "    } else if (currentUnit === 'cups' && targetUnit === 'teaspoons') {\n",
    "        convertedQuantity = quantity * conversionRates.cupsToTeaspoons;\n",
    "    } else if (currentUnit === 'tablespoons' && targetUnit === 'teaspoons') {\n",
    "        convertedQuantity = quantity * conversionRates.tablespoonsToTeaspoons;\n",
    "    } else if (currentUnit === 'tablespoons' && targetUnit === 'cups') {\n",
    "        convertedQuantity = quantity / conversionRates.cupsToTablespoons;\n",
    "    } else if (currentUnit === 'teaspoons' && targetUnit === 'tablespoons') {\n",
    "        convertedQuantity = quantity / conversionRates.tablespoonsToTeaspoons;\n",
    "    } else if (currentUnit === 'teaspoons' && targetUnit === 'cups') {\n",
    "        convertedQuantity = quantity / conversionRates.cupsToTeaspoons;\n",
    "    } else {\n",
    "        console.log(\"Invalid conversion.\");\n",
    "        return null;\n",
    "    }\n",
    "    \n",
    "    return convertedQuantity;\n",
    "}\n",
    "\n",
    "// Step 2: Input for ingredients\n",
    "function recipeIngredientConverter() {\n",
    "    let ingredients = [];\n",
    "    \n",
    "    while (true) {\n",
    "        let ingredientName = prompt(\"Enter the ingredient name (or type 'done' to finish):\");\n",
    "        if (ingredientName.toLowerCase() === 'done') break;\n",
    "        \n",
    "        let quantity = parseFloat(prompt(`Enter the quantity of ${ingredientName}:`));\n",
    "        let currentUnit = prompt(`Enter the unit of ${ingredientName} (cups, tablespoons, teaspoons):`).toLowerCase();\n",
    "        let targetUnit = prompt(`Enter the unit you want to convert to (cups, tablespoons, teaspoons):`).toLowerCase();\n",
    "        \n",
    "        let convertedQuantity = convertUnit(quantity, currentUnit, targetUnit);\n",
    "        \n",
    "        if (convertedQuantity !== null) {\n",
    "            ingredients.push({\n",
    "                name: ingredientName,\n",
    "                originalQuantity: quantity,\n",
    "                originalUnit: currentUnit,\n",
    "                convertedQuantity: convertedQuantity,\n",
    "                targetUnit: targetUnit\n",
    "            });\n",
    "        }\n",
    "    }\n",
    "\n",
    "    // Step 4: Display the converted results\n",
    "    console.log(\"\\nConverted Recipe Ingredients:\");\n",
    "    ingredients.forEach(ingredient => {\n",
    "        console.log(`${ingredient.originalQuantity} ${ingredient.originalUnit} of ${ingredient.name} is equal to ${ingredient.convertedQuantity.toFixed(2)} ${ingredient.targetUnit}`);\n",
    "    });\n",
    "}\n",
    "\n",
    "// Call the function\n",
    "recipeIngredientConverter();\n"
   ]
  },
  {
   "cell_type": "markdown",
   "metadata": {},
   "source": [
    "<h2>3.4 Popcorn Hacks<h2>"
   ]
  },
  {
   "cell_type": "code",
   "execution_count": 17,
   "metadata": {
    "vscode": {
     "languageId": "javascript"
    }
   },
   "outputs": [
    {
     "data": {
      "application/javascript": "\n\nlet favoriteMovie = \"Spiderman\";\nlet favoriteSport = \"Basketball\";\nlet petName = \"Tony\";\n\n\n// Concatenation\nlet concatenatedMessage = \"My favorite movie is \" + favoriteMovie + \". I love playing \" + favoriteSport + \" and my pet's name is \" + petName + \".\";\n\n\n// Interpolation\nlet interpolatedMessage = `My favorite movie is ${favoriteMovie}. I love playing ${favoriteSport} and my pet's name is ${petName}.`;\n",
      "text/plain": [
       "<IPython.core.display.Javascript object>"
      ]
     },
     "metadata": {},
     "output_type": "display_data"
    }
   ],
   "source": [
    "%%js\n",
    "\n",
    "\n",
    "let favoriteMovie = \"Spiderman\";\n",
    "let favoriteSport = \"Basketball\";\n",
    "let petName = \"Tony\";\n",
    "\n",
    "\n",
    "// Concatenation\n",
    "let concatenatedMessage = \"My favorite movie is \" + favoriteMovie + \". I love playing \" + favoriteSport + \" and my pet's name is \" + petName + \".\";\n",
    "\n",
    "\n",
    "// Interpolation\n",
    "let interpolatedMessage = `My favorite movie is ${favoriteMovie}. I love playing ${favoriteSport} and my pet's name is ${petName}.`;\n"
   ]
  },
  {
   "cell_type": "code",
   "execution_count": 18,
   "metadata": {
    "vscode": {
     "languageId": "javascript"
    }
   },
   "outputs": [
    {
     "data": {
      "application/javascript": "\n// Define the string\nlet phrase = \"A journey of a thousand miles begins with a single step\";\n\n// Extraction using slice()\nlet partOne = phrase.slice(2, 9);           // Extract \"journey\"\nlet partTwo = phrase.slice(-29, -24);       // Extract \"miles\" using a negative starting index\nlet remainder = phrase.slice(32);           // Extract everything from \"begins\" to the end of the sentence\n\n// Output the results\nconsole.log(partOne);  // Output: journey\nconsole.log(partTwo);  // Output: miles\nconsole.log(remainder); // Output: begins with a single step\n",
      "text/plain": [
       "<IPython.core.display.Javascript object>"
      ]
     },
     "metadata": {},
     "output_type": "display_data"
    }
   ],
   "source": [
    "%%js\n",
    "\n",
    "// Define the string\n",
    "let phrase = \"A journey of a thousand miles begins with a single step\";\n",
    "\n",
    "// Extraction using slice()\n",
    "let partOne = phrase.slice(2, 9);           // Extract \"journey\"\n",
    "let partTwo = phrase.slice(-29, -24);       // Extract \"miles\" using a negative starting index\n",
    "let remainder = phrase.slice(32);           // Extract everything from \"begins\" to the end of the sentence\n",
    "\n",
    "// Output the results\n",
    "console.log(partOne);  // Output: journey\n",
    "console.log(partTwo);  // Output: miles\n",
    "console.log(remainder); // Output: begins with a single step\n"
   ]
  },
  {
   "cell_type": "code",
   "execution_count": null,
   "metadata": {},
   "outputs": [],
   "source": [
    "# Function to remove vowels from the input sentence\n",
    "def remove_vowels(input_str):\n",
    "    vowels = \"aeiouAEIOU\"  # Defining vowels (both uppercase and lowercase)\n",
    "    result = ''.join([char for char in input_str if char not in vowels])  # Remove vowels using list comprehension\n",
    "    return result\n",
    "\n",
    "# Test the function\n",
    "sentence = \"I enjoy learning Python!\"\n",
    "print(remove_vowels(sentence))\n"
   ]
  },
  {
   "cell_type": "code",
   "execution_count": null,
   "metadata": {},
   "outputs": [],
   "source": [
    "# Function to reverse the order of words in the sentence\n",
    "def reverse_words(input_str):\n",
    "    # Split the sentence into words\n",
    "    words = input_str.split()\n",
    "    # Reverse the order of words and join them back into a string\n",
    "    reversed_words = \" \".join(words[::-1])\n",
    "    return reversed_words\n",
    "\n",
    "# Test the function\n",
    "sentence = \"I love coding!\"\n",
    "print(reverse_words(sentence))\n"
   ]
  },
  {
   "cell_type": "markdown",
   "metadata": {},
   "source": [
    "<h2>3.4 Homework Hacks<h2>"
   ]
  },
  {
   "cell_type": "code",
   "execution_count": 20,
   "metadata": {
    "vscode": {
     "languageId": "javascript"
    }
   },
   "outputs": [
    {
     "data": {
      "application/javascript": "\n// Function to generate a greeting\nfunction greetingGenerator(firstName, lastName) {\n    // Using string interpolation (template literals)\n    let greetingMessage = `Hello, ${firstName} ${lastName}!`;\n    return greetingMessage;\n}\n\n// Test the function\nlet firstName = \"Manas\";\nlet lastName = \"Kumar\";\nconsole.log(greetingGenerator(firstName, lastName));  // Output: Hello, Manas Kumar!\n",
      "text/plain": [
       "<IPython.core.display.Javascript object>"
      ]
     },
     "metadata": {},
     "output_type": "display_data"
    }
   ],
   "source": [
    "%%js\n",
    "\n",
    "// Function to generate a greeting\n",
    "function greetingGenerator(firstName, lastName) {\n",
    "    // Using string interpolation (template literals)\n",
    "    let greetingMessage = `Hello, ${firstName} ${lastName}!`;\n",
    "    return greetingMessage;\n",
    "}\n",
    "\n",
    "// Test the function\n",
    "let firstName = \"Manas\";\n",
    "let lastName = \"Goel\";\n",
    "console.log(greetingGenerator(firstName, lastName));  // Output: Hello, Manas Goel!\n"
   ]
  },
  {
   "cell_type": "code",
   "execution_count": 21,
   "metadata": {},
   "outputs": [
    {
     "name": "stdout",
     "output_type": "stream",
     "text": [
      "True\n",
      "False\n"
     ]
    }
   ],
   "source": [
    "# Function to check if a string is a palindrome\n",
    "def is_palindrome(input_str):\n",
    "    # Remove any spaces and convert to lowercase for accurate comparison\n",
    "    processed_str = input_str.replace(\" \", \"\").lower()\n",
    "    # Check if the string is equal to its reverse\n",
    "    return processed_str == processed_str[::-1]\n",
    "\n",
    "# Test the function\n",
    "test_str = \"madam\"\n",
    "print(is_palindrome(test_str))  # Output: True\n",
    "\n",
    "test_str_2 = \"Hello\"\n",
    "print(is_palindrome(test_str_2))  # Output: False\n"
   ]
  }
 ],
 "metadata": {
  "kernelspec": {
   "display_name": "venv",
   "language": "python",
   "name": "python3"
  },
  "language_info": {
   "codemirror_mode": {
    "name": "ipython",
    "version": 3
   },
   "file_extension": ".py",
   "mimetype": "text/x-python",
   "name": "python",
   "nbconvert_exporter": "python",
   "pygments_lexer": "ipython3",
   "version": "3.12.5"
  }
 },
 "nbformat": 4,
 "nbformat_minor": 2
}
