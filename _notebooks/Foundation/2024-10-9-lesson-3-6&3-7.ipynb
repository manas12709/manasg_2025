{
 "cells": [
  {
   "cell_type": "raw",
   "metadata": {
    "vscode": {
     "languageId": "raw"
    }
   },
   "source": [
    "---\n",
    "layout: post\n",
    "title: 3.6 and 3.7 Homework and Popcorn Hacks \n",
    "description: Homework\n",
    "categories: [JavaScript]\n",
    "permalink: /lesson/3-6&3-7/\n",
    "---"
   ]
  },
  {
   "cell_type": "markdown",
   "metadata": {
    "vscode": {
     "languageId": "raw"
    }
   },
   "source": [
    "<h2>3.6 Popcorn Hacks</h2>"
   ]
  },
  {
   "cell_type": "code",
   "execution_count": 19,
   "metadata": {
    "vscode": {
     "languageId": "javascript"
    }
   },
   "outputs": [
    {
     "data": {
      "application/javascript": "\n// Prompt the user to enter a number\nlet number = prompt(\"Enter a number:\");\n\n// Convert the input to a number\nnumber = Number(number);\n\n// Check if the number is even or odd\nif (number % 2 === 0) {\n    console.log(\"The number is even.\");\n} else {\n    console.log(\"The number is odd.\");\n}\n",
      "text/plain": [
       "<IPython.core.display.Javascript object>"
      ]
     },
     "metadata": {},
     "output_type": "display_data"
    }
   ],
   "source": [
    "%%javascript\n",
    "\n",
    "// Prompt the user to enter a number\n",
    "let number = prompt(\"Enter a number:\");\n",
    "\n",
    "// Convert the input to a number\n",
    "number = Number(number);\n",
    "\n",
    "// Check if the number is even or odd\n",
    "if (number % 2 === 0) {\n",
    "    console.log(\"The number is even.\");\n",
    "} else {\n",
    "    console.log(\"The number is odd.\");\n",
    "}"
   ]
  },
  {
   "cell_type": "code",
   "execution_count": 15,
   "metadata": {},
   "outputs": [
    {
     "name": "stdout",
     "output_type": "stream",
     "text": [
      "The number is even.\n"
     ]
    }
   ],
   "source": [
    "# Prompt the user to enter a number\n",
    "number = int(input(\"Enter a number: \"))\n",
    "\n",
    "# Check if the number is even or odd\n",
    "if number % 2 == 0:\n",
    "    print(\"The number is even.\")\n",
    "else:\n",
    "    print(\"The number is odd.\")"
   ]
  },
  {
   "cell_type": "code",
   "execution_count": 14,
   "metadata": {
    "vscode": {
     "languageId": "javascript"
    }
   },
   "outputs": [
    {
     "data": {
      "application/javascript": "\n// Prompt the user for input to determine if they want popcorn\nlet wantsPopcorn = prompt(\"Do you want popcorn? (yes/no)\").toLowerCase() === 'yes';\n\n// Check the boolean value\nif (wantsPopcorn) {\n    console.log(\"Great! Enjoy your popcorn!\");\n} else {\n    console.log(\"No popcorn for you!\");\n}\n",
      "text/plain": [
       "<IPython.core.display.Javascript object>"
      ]
     },
     "metadata": {},
     "output_type": "display_data"
    }
   ],
   "source": [
    "%%javascript\n",
    "\n",
    "// Prompt the user for input to determine if they want popcorn\n",
    "let wantsPopcorn = prompt(\"Do you want popcorn? (yes/no)\").toLowerCase() === 'yes';\n",
    "\n",
    "// Check the boolean value\n",
    "if (wantsPopcorn) {\n",
    "    console.log(\"Great! Enjoy your popcorn!\");\n",
    "} else {\n",
    "    console.log(\"No popcorn for you!\");\n",
    "}"
   ]
  },
  {
   "cell_type": "code",
   "execution_count": 12,
   "metadata": {},
   "outputs": [
    {
     "name": "stdout",
     "output_type": "stream",
     "text": [
      "Great! Enjoy your popcorn!\n"
     ]
    }
   ],
   "source": [
    "# Prompt the user for input to determine if they want popcorn\n",
    "user_input = input(\"Do you want popcorn? (yes/no): \").strip().lower()\n",
    "wants_popcorn = user_input == 'yes'\n",
    "\n",
    "# Check the boolean value\n",
    "if wants_popcorn:\n",
    "    print(\"Great! Enjoy your popcorn!\")\n",
    "else:\n",
    "    print(\"No popcorn for you!\")"
   ]
  },
  {
   "cell_type": "code",
   "execution_count": 20,
   "metadata": {
    "vscode": {
     "languageId": "javascript"
    }
   },
   "outputs": [
    {
     "data": {
      "application/javascript": "\n// Function to check if a number is prime\nfunction isPrime(num) {\n    if (num <= 1) return false;\n    for (let i = 2; i <= Math.sqrt(num); i++) {\n        if (num % i === 0) return false;\n    }\n    return true;\n}\n\n// Prompt the user to enter a number\nlet number = prompt(\"Enter a number to check if it's prime:\");\n\n// Convert the input to a number\nnumber = Number(number);\n\n// Use a conditional to check if the number is prime\nif (isPrime(number)) {\n    console.log(`${number} is a prime number.`);\n} else {\n    console.log(`${number} is not a prime number.`);\n}\n",
      "text/plain": [
       "<IPython.core.display.Javascript object>"
      ]
     },
     "metadata": {},
     "output_type": "display_data"
    }
   ],
   "source": [
    "%%javascript\n",
    "\n",
    "// Function to check if a number is prime\n",
    "function isPrime(num) {\n",
    "    if (num <= 1) return false;\n",
    "    for (let i = 2; i <= Math.sqrt(num); i++) {\n",
    "        if (num % i === 0) return false;\n",
    "    }\n",
    "    return true;\n",
    "}\n",
    "\n",
    "// Prompt the user to enter a number\n",
    "let number = prompt(\"Enter a number to check if it's prime:\");\n",
    "\n",
    "// Convert the input to a number\n",
    "number = Number(number);\n",
    "\n",
    "// Use a conditional to check if the number is prime\n",
    "if (isPrime(number)) {\n",
    "    console.log(`${number} is a prime number.`);\n",
    "} else {\n",
    "    console.log(`${number} is not a prime number.`);\n",
    "}"
   ]
  },
  {
   "cell_type": "code",
   "execution_count": 11,
   "metadata": {},
   "outputs": [
    {
     "name": "stdout",
     "output_type": "stream",
     "text": [
      "13 is a prime number.\n"
     ]
    }
   ],
   "source": [
    "import math\n",
    "\n",
    "# Function to check if a number is prime\n",
    "def is_prime(num):\n",
    "    if num <= 1:\n",
    "        return False\n",
    "    for i in range(2, int(math.sqrt(num)) + 1):\n",
    "        if num % i == 0:\n",
    "            return False\n",
    "    return True\n",
    "\n",
    "# Prompt the user to enter a number\n",
    "number = int(input(\"Enter a number to check if it's prime: \"))\n",
    "\n",
    "# Use a conditional to check if the number is prime\n",
    "if is_prime(number):\n",
    "    print(f\"{number} is a prime number.\")\n",
    "else:\n",
    "    print(f\"{number} is not a prime number.\")\n"
   ]
  },
  {
   "cell_type": "markdown",
   "metadata": {},
   "source": [
    "<h2>3.6 Homework Hack</h2>"
   ]
  },
  {
   "cell_type": "code",
   "execution_count": 3,
   "metadata": {},
   "outputs": [
    {
     "name": "stdout",
     "output_type": "stream",
     "text": [
      "Wrong! The correct answer is: michael jordan\n",
      "Correct!\n",
      "Correct!\n",
      "Wrong! The correct answer is: kobe bryant\n",
      "Wrong! The correct answer is: 15\n",
      "Your final score is: 2/5\n"
     ]
    }
   ],
   "source": [
    "# Function to ask a question and check the answer\n",
    "def ask_question(question, answer):\n",
    "    user_answer = input(question + \" \")\n",
    "    return user_answer.lower() == answer.lower()\n",
    "\n",
    "# Quiz questions and answers\n",
    "quiz_questions = [\n",
    "    {\"question\": \"Who is known as 'His Airness'?\", \"answer\": \"michael jordan\"},\n",
    "    {\"question\": \"How many points is a three-pointer worth?\", \"answer\": \"3\"},\n",
    "    {\"question\": \"Which team won the NBA Championship in 2020?\", \"answer\": \"los angeles lakers\"},\n",
    "    {\"question\": \"Who holds the record for the most points scored in a single NBA game?\", \"answer\": \"kobe bryant\"},\n",
    "    {\"question\": \"What is the maximum number of players allowed on an NBA roster?\", \"answer\": \"15\"}\n",
    "]\n",
    "\n",
    "score = 0\n",
    "\n",
    "# Ask each question in the quiz\n",
    "for q in quiz_questions:\n",
    "    if ask_question(q[\"question\"], q[\"answer\"]):\n",
    "        print(\"Correct!\")\n",
    "        score += 1\n",
    "    else:\n",
    "        print(\"Wrong! The correct answer is: \" + q[\"answer\"])\n",
    "\n",
    "# Display the final score\n",
    "print(\"Your final score is: {}/{}\".format(score, len(quiz_questions)))\n"
   ]
  },
  {
   "cell_type": "markdown",
   "metadata": {},
   "source": [
    "<h2>3.7 Popcorn Hacks</h2>"
   ]
  },
  {
   "cell_type": "code",
   "execution_count": 10,
   "metadata": {},
   "outputs": [
    {
     "name": "stdout",
     "output_type": "stream",
     "text": [
      "You can have candy.\n"
     ]
    }
   ],
   "source": [
    "# Prompt the user for their age\n",
    "age = int(input(\"Enter your age: \"))\n",
    "\n",
    "# Prompt the user for their preference about sweets\n",
    "likes_sweets = input(\"Do you like sweets? (yes/no): \").strip().lower()\n",
    "\n",
    "# Determine what snack the user can have\n",
    "if age < 10:\n",
    "    if likes_sweets == 'yes':\n",
    "        print(\"You can have candy.\")\n",
    "    else:\n",
    "        print(\"You can have a healthy snack.\")\n",
    "elif age < 18:\n",
    "    if likes_sweets == 'yes':\n",
    "        print(\"You can have candy.\")\n",
    "    else:\n",
    "        print(\"You get a fruit snack.\")\n",
    "else:\n",
    "    if likes_sweets == 'yes':\n",
    "        print(\"You can have a healthy snack.\")\n",
    "    else:\n",
    "        print(\"You get a fruit snack.\")\n"
   ]
  },
  {
   "cell_type": "code",
   "execution_count": 8,
   "metadata": {
    "vscode": {
     "languageId": "javascript"
    }
   },
   "outputs": [
    {
     "data": {
      "application/javascript": "\n// Prompt the user for their age\nlet age = parseInt(prompt(\"Enter your age:\"));\n\n// Prompt the user for their preference about sweets\nlet likesSweets = prompt(\"Do you like sweets? (yes/no):\").toLowerCase().trim();\n\n// Determine what snack the user can have\nif (age < 10) {\n    if (likesSweets === 'yes') {\n        console.log(\"You can have candy.\");\n    } else {\n        console.log(\"You can have a healthy snack.\");\n    }\n} else if (age < 18) {\n    if (likesSweets === 'yes') {\n        console.log(\"You can have candy.\");\n    } else {\n        console.log(\"You get a fruit snack.\");\n    }\n} else {\n    if (likesSweets === 'yes') {\n        console.log(\"You can have a healthy snack.\");\n    } else {\n        console.log(\"You get a fruit snack.\");\n    }\n}\n",
      "text/plain": [
       "<IPython.core.display.Javascript object>"
      ]
     },
     "metadata": {},
     "output_type": "display_data"
    }
   ],
   "source": [
    "%%javascript\n",
    "\n",
    "// Prompt the user for their age\n",
    "let age = parseInt(prompt(\"Enter your age:\"));\n",
    "\n",
    "// Prompt the user for their preference about sweets\n",
    "let likesSweets = prompt(\"Do you like sweets? (yes/no):\").toLowerCase().trim();\n",
    "\n",
    "// Determine what snack the user can have\n",
    "if (age < 10) {\n",
    "    if (likesSweets === 'yes') {\n",
    "        console.log(\"You can have candy.\");\n",
    "    } else {\n",
    "        console.log(\"You can have a healthy snack.\");\n",
    "    }\n",
    "} else if (age < 18) {\n",
    "    if (likesSweets === 'yes') {\n",
    "        console.log(\"You can have candy.\");\n",
    "    } else {\n",
    "        console.log(\"You get a fruit snack.\");\n",
    "    }\n",
    "} else {\n",
    "    if (likesSweets === 'yes') {\n",
    "        console.log(\"You can have a healthy snack.\");\n",
    "    } else {\n",
    "        console.log(\"You get a fruit snack.\");\n",
    "    }\n",
    "}"
   ]
  },
  {
   "cell_type": "code",
   "execution_count": 7,
   "metadata": {},
   "outputs": [
    {
     "name": "stdout",
     "output_type": "stream",
     "text": [
      "You can afford the following laptops:\n",
      "- Laptop A ($ 700)\n",
      "- Laptop B ($ 1000)\n",
      "- Laptop C ($ 1200)\n",
      "- Laptop D ($ 1500)\n"
     ]
    }
   ],
   "source": [
    "# Define the prices of different laptops\n",
    "laptops = {\n",
    "    \"Laptop A\": 700,\n",
    "    \"Laptop B\": 1000,\n",
    "    \"Laptop C\": 1200,\n",
    "    \"Laptop D\": 1500,\n",
    "    \"Laptop E\": 2000\n",
    "}\n",
    "\n",
    "# Prompt the user for their savings\n",
    "savings = float(input(\"Enter your total savings: $\"))\n",
    "\n",
    "# Check which laptops the user can afford\n",
    "affordable_laptops = []\n",
    "\n",
    "for laptop, price in laptops.items():\n",
    "    if savings >= price:\n",
    "        affordable_laptops.append(laptop)\n",
    "\n",
    "# Display the result\n",
    "if affordable_laptops:\n",
    "    print(\"You can afford the following laptops:\")\n",
    "    for laptop in affordable_laptops:\n",
    "        print(f\"- {laptop} ($ {laptops[laptop]})\")\n",
    "else:\n",
    "    print(\"You cannot afford any laptops at this time.\")"
   ]
  },
  {
   "cell_type": "code",
   "execution_count": 6,
   "metadata": {
    "vscode": {
     "languageId": "javascript"
    }
   },
   "outputs": [
    {
     "data": {
      "application/javascript": "\n// Function to check concert attendance eligibility\nfunction checkConcertEligibility() {\n    // Prompt the user for their age\n    let age = parseInt(prompt(\"Enter your age:\"));\n    // Prompt the user to check if they have a ticket\n    let hasTicket = prompt(\"Do you have a ticket? (yes/no):\").toLowerCase() === 'yes';\n\n    // Determine eligibility\n    if (age >= 18) {\n        if (hasTicket) {\n            console.log(\"You can attend the concert!\");\n        } else {\n            console.log(\"You must have a ticket to attend the concert.\");\n        }\n    } else {\n        if (hasTicket) {\n            console.log(\"You can attend the concert, but you need an adult with you.\");\n        } else {\n            console.log(\"You must have a ticket and an adult to attend the concert.\");\n        }\n    }\n}\n\n// Call the function to run the program\ncheckConcertEligibility();\n",
      "text/plain": [
       "<IPython.core.display.Javascript object>"
      ]
     },
     "metadata": {},
     "output_type": "display_data"
    }
   ],
   "source": [
    "%%javascript\n",
    "\n",
    "// Function to check concert attendance eligibility\n",
    "function checkConcertEligibility() {\n",
    "    // Prompt the user for their age\n",
    "    let age = parseInt(prompt(\"Enter your age:\"));\n",
    "    // Prompt the user to check if they have a ticket\n",
    "    let hasTicket = prompt(\"Do you have a ticket? (yes/no):\").toLowerCase() === 'yes';\n",
    "\n",
    "    // Determine eligibility\n",
    "    if (age >= 18) {\n",
    "        if (hasTicket) {\n",
    "            console.log(\"You can attend the concert!\");\n",
    "        } else {\n",
    "            console.log(\"You must have a ticket to attend the concert.\");\n",
    "        }\n",
    "    } else {\n",
    "        if (hasTicket) {\n",
    "            console.log(\"You can attend the concert, but you need an adult with you.\");\n",
    "        } else {\n",
    "            console.log(\"You must have a ticket and an adult to attend the concert.\");\n",
    "        }\n",
    "    }\n",
    "}\n",
    "\n",
    "// Call the function to run the program\n",
    "checkConcertEligibility();"
   ]
  },
  {
   "cell_type": "markdown",
   "metadata": {},
   "source": [
    "<h2>Homework Hacks for 3.7</h2>"
   ]
  },
  {
   "cell_type": "code",
   "execution_count": 5,
   "metadata": {
    "vscode": {
     "languageId": "javascript"
    }
   },
   "outputs": [
    {
     "data": {
      "application/javascript": "\n// Function to determine game eligibility and group\nfunction checkGameEligibility() {\n    // Get the user's age\n    let age = parseInt(prompt(\"Enter your age:\"));\n    \n    // Check if the user has a ball\n    let hasBall = prompt(\"Do you have a ball? (yes/no):\").toLowerCase() === 'yes';\n\n    // Check eligibility\n    if (age >= 5 && hasBall) {\n        // Determine play group\n        let group = age < 8 ? \"under 8\" : \"8 and older\";\n\n        // Display the result\n        console.log(\"You can join the game! Your play group is: \" + group + \".\");\n    } else {\n        console.log(\"You cannot join the game. You must be at least 5 years old and have a ball.\");\n    }\n}\n\n// Call the function to run the program\ncheckGameEligibility();\n",
      "text/plain": [
       "<IPython.core.display.Javascript object>"
      ]
     },
     "metadata": {},
     "output_type": "display_data"
    }
   ],
   "source": [
    "%%javascript\n",
    "\n",
    "// Function to determine game eligibility and group\n",
    "function checkGameEligibility() {\n",
    "    // Get the user's age\n",
    "    let age = parseInt(prompt(\"Enter your age:\"));\n",
    "    \n",
    "    // Check if the user has a ball\n",
    "    let hasBall = prompt(\"Do you have a ball? (yes/no):\").toLowerCase() === 'yes';\n",
    "\n",
    "    // Check eligibility\n",
    "    if (age >= 5 && hasBall) {\n",
    "        // Determine play group\n",
    "        let group = age < 8 ? \"under 8\" : \"8 and older\";\n",
    "\n",
    "        // Display the result\n",
    "        console.log(\"You can join the game! Your play group is: \" + group + \".\");\n",
    "    } else {\n",
    "        console.log(\"You cannot join the game. You must be at least 5 years old and have a ball.\");\n",
    "    }\n",
    "}\n",
    "\n",
    "// Call the function to run the program\n",
    "checkGameEligibility();\n"
   ]
  },
  {
   "cell_type": "code",
   "execution_count": 4,
   "metadata": {},
   "outputs": [
    {
     "name": "stdout",
     "output_type": "stream",
     "text": [
      "You can join the game! Your play group is: 8 and older.\n"
     ]
    }
   ],
   "source": [
    "# Function to determine game eligibility and group\n",
    "def check_game_eligibility():\n",
    "    # Get the user's age\n",
    "    age = int(input(\"Enter your age: \"))\n",
    "    \n",
    "    # Check if the user has a ball\n",
    "    has_ball = input(\"Do you have a ball? (yes/no): \").strip().lower() == 'yes'\n",
    "\n",
    "    # Check eligibility\n",
    "    if age >= 5 and has_ball:\n",
    "        # Determine play group\n",
    "        group = \"under 8\" if age < 8 else \"8 and older\"\n",
    "\n",
    "        # Display the result\n",
    "        print(f\"You can join the game! Your play group is: {group}.\")\n",
    "    else:\n",
    "        print(\"You cannot join the game. You must be at least 5 years old and have a ball.\")\n",
    "\n",
    "# Call the function to run the program\n",
    "check_game_eligibility()"
   ]
  }
 ],
 "metadata": {
  "kernelspec": {
   "display_name": "venv",
   "language": "python",
   "name": "python3"
  },
  "language_info": {
   "codemirror_mode": {
    "name": "ipython",
    "version": 3
   },
   "file_extension": ".py",
   "mimetype": "text/x-python",
   "name": "python",
   "nbconvert_exporter": "python",
   "pygments_lexer": "ipython3",
   "version": "3.12.5"
  }
 },
 "nbformat": 4,
 "nbformat_minor": 2
}
