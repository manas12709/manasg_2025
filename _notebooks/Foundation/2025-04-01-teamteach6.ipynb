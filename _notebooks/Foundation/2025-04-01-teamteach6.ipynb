{
 "cells": [
  {
   "cell_type": "raw",
   "metadata": {
    "vscode": {
     "languageId": "raw"
    }
   },
   "source": [
    "---\n",
    "layout: post\n",
    "title: Safe Computing\n",
    "description: Safe Computing in Computing Classwork and Homework \n",
    "permalink: /safe/\n",
    "comments: true\n",
    "---"
   ]
  },
  {
   "cell_type": "markdown",
   "metadata": {},
   "source": [
    "# Popcorn Hack 1"
   ]
  },
  {
   "cell_type": "markdown",
   "metadata": {},
   "source": [
    "A. Fingerprint"
   ]
  },
  {
   "cell_type": "markdown",
   "metadata": {},
   "source": [
    "# Popcorn Hack 2"
   ]
  },
  {
   "cell_type": "markdown",
   "metadata": {},
   "source": [
    "D. A username required to log in."
   ]
  },
  {
   "cell_type": "markdown",
   "metadata": {},
   "source": [
    "# Popcorn Hack 3"
   ]
  },
  {
   "cell_type": "markdown",
   "metadata": {},
   "source": [
    "B. Finn and Gwen develop a system that maps each letter of the alphabet to a unique symbol using a secret key. This describes symmetric encryption where the same key (the secret key) is used both to encrypt (replace letters with symbols) and decrypt (replace symbols with letters) the message."
   ]
  },
  {
   "cell_type": "markdown",
   "metadata": {},
   "source": [
    "# Popcorn Hack 4"
   ]
  },
  {
   "cell_type": "markdown",
   "metadata": {},
   "source": [
    "A good password is crucial for securing your online accounts and personal information. Here are some key characteristics that make a password strong and secure:\n",
    "\n",
    "1. **Length**: A longer password is generally more secure. Aim for a minimum of 12 characters, but longer is better.\n",
    "\n",
    "2. **Complexity**: Include a mix of uppercase letters, lowercase letters, numbers, and special characters (like !, @, #, $, etc.). This complexity makes it harder for automated tools to guess your password.\n",
    "\n",
    "3. **Unpredictability**: Avoid using easily guessable information such as common words, phrases, or patterns (like \"password123\" or \"qwerty\"). Opt instead for random combinations of characters.\n",
    "\n",
    "4. **Unique**: Use different passwords for different accounts. Reusing passwords across multiple sites increases your vulnerability—if one account is compromised, others are at risk too.\n",
    "\n",
    "5. **Avoid Personal Information**: Don't use easily accessible personal information like your name, birthdate, or common words associated with you.\n",
    "\n",
    "6. **Regular Updates**: Change your passwords periodically, at least every 3-6 months, especially for critical accounts.\n",
    "\n",
    "7. **Two-Factor Authentication (2FA)**: Whenever possible, enable 2FA for an added layer of security. This requires a second form of verification (like a code sent to your phone) in addition to your password.\n",
    "\n",
    "8. **Secure Storage**: If you have trouble remembering complex passwords, consider using a reputable password manager. It securely stores and manages passwords for multiple accounts.\n",
    "\n",
    "By following these guidelines, you can create strong passwords that significantly enhance the security of your online accounts and personal information."
   ]
  }
 ],
 "metadata": {
  "language_info": {
   "name": "python"
  }
 },
 "nbformat": 4,
 "nbformat_minor": 2
}
