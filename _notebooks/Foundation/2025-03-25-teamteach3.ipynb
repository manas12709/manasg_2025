{
 "cells": [
  {
   "cell_type": "raw",
   "metadata": {
    "vscode": {
     "languageId": "raw"
    }
   },
   "source": [
    "---\n",
    "layout: post\n",
    "title: Computing Bias\n",
    "description: Computing Bias in the Digital World   \n",
    "permalink: /computingbias/\n",
    "comments: true\n",
    "---"
   ]
  },
  {
   "cell_type": "markdown",
   "metadata": {},
   "source": [
    "# Popcorn Hack 1"
   ]
  },
  {
   "cell_type": "markdown",
   "metadata": {},
   "source": [
    "<h3>Disney Plus because it makes a lot of movie and television show recommendations based on your viewing history.  Because it effects the decisions one might make while selecting which show to watch, it has an impact on the user.  The suggestions are based on shows you have already seen.</h3>"
   ]
  },
  {
   "cell_type": "markdown",
   "metadata": {
    "vscode": {
     "languageId": "raw"
    }
   },
   "source": [
    "# Popcorn Hack 2"
   ]
  },
  {
   "cell_type": "markdown",
   "metadata": {},
   "source": [
    "<h3>When I tried to work on an online course, the program got really glitchy and the videos were distorted. That was one instance where technology didn't perform properly for me.  It greatly slowed down the amount of work I could accomplish and created a great deal of frustration.  Daily server checks on the online course program could be a solution to prevent these issues, which irritated me.</h3>"
   ]
  },
  {
   "cell_type": "markdown",
   "metadata": {},
   "source": [
    "# Popcorn Hack 3"
   ]
  },
  {
   "cell_type": "markdown",
   "metadata": {},
   "source": [
    "<h3>If performance ratings and recommendations in a fitness tracking software are based on information that favors one party over another, bias may result.  It might provide you feedback that is more positive for the business and negative for you, which would make you more likely to employ their services to help them perform better.</h3>"
   ]
  },
  {
   "cell_type": "markdown",
   "metadata": {},
   "source": [
    "# Homework Hack 1"
   ]
  },
  {
   "cell_type": "markdown",
   "metadata": {},
   "source": [
    "<h3>Tool: YouTube\n",
    "\n",
    " <li>Recognize Possible Bias: YouTube's recommendation system may limit the variety of content a person can view by frequently displaying stuff that is similar to what they have already seen.  Additionally, it could create bias by favoring well-known creators and increasing their popularity.</li>\n",
    "\n",
    " <li>Examining the source: The engagement and watch time-favoring algorithm that promotes user preferences at the price of fostering content diversity is the root source of this prejudice.  Another possible reason of the problem is a lack of varied training data.</li>\n",
    "\n",
    " <li>The suggested remedy is that YouTube may provide a balanced exposure to many viewpoints by displaying diversity-conscious recommendations, user-selected content filters, and improved accessibility capabilities.</li></h3>\n"
   ]
  }
 ],
 "metadata": {
  "language_info": {
   "name": "python"
  }
 },
 "nbformat": 4,
 "nbformat_minor": 2
}
