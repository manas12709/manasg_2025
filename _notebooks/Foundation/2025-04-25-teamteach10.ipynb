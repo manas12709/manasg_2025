{
 "cells": [
  {
   "cell_type": "raw",
   "metadata": {
    "vscode": {
     "languageId": "raw"
    }
   },
   "source": [
    "---\n",
    "layout: post\n",
    "title: Undecidable Problems and Graphs \n",
    "description: Undecidable Problems and Graphs Homework And Popcorn Hacks\n",
    "permalink: /und/\n",
    "comments: true\n",
    "---"
   ]
  },
  {
   "cell_type": "markdown",
   "metadata": {},
   "source": [
    "# Popcorn Hack 1"
   ]
  },
  {
   "cell_type": "markdown",
   "metadata": {},
   "source": [
    "## False.\n",
    "\n",
    "## An algorithm cannot be used to solve an undecidable problem in general. By definition, an undecidable problem is one for which no algorithm exists that can correctly solve all instances of the problem."
   ]
  },
  {
   "cell_type": "markdown",
   "metadata": {},
   "source": [
    "# Popcorn Hack 2"
   ]
  },
  {
   "cell_type": "markdown",
   "metadata": {},
   "source": [
    "## True.\n",
    "\n",
    "## While an undecidable problem cannot be solved by an algorithm in all cases, a programmer can often use an algorithm that works in many practical cases or for a specific subset of inputs. These are called heuristics or semi-decision procedures, and they can be very useful—even if they don’t guarantee a correct answer every time."
   ]
  },
  {
   "cell_type": "markdown",
   "metadata": {},
   "source": [
    "# Popcorn Hack 3"
   ]
  },
  {
   "cell_type": "markdown",
   "metadata": {},
   "source": [
    "## D. Bubble sorting – This is a simple, fully decidable algorithm for sorting items. It’s not a problem of decidability at all."
   ]
  },
  {
   "cell_type": "markdown",
   "metadata": {},
   "source": [
    "# Homework"
   ]
  },
  {
   "cell_type": "markdown",
   "metadata": {},
   "source": [
    "## Social Network Analysis (SNA) is a technique used to examine social structures by representing relationships as graphs. Within this framework, graph theory serves as a valuable tool for visualizing and analyzing the intricate network of interactions between users on social media. In these graphs, each user is depicted as a node (or vertex), and the connections—such as follows, friendships, or messages—are represented as edges. These edges may be directed, illustrating one-way relationships (like on Twitter, where user A follows user B without reciprocation), or undirected, indicating mutual connections (as with Facebook friendships). Furthermore, edges can carry weights to signify the intensity or frequency of user interactions.\n",
    "\n",
    "## A well-known real-world application of SNA is seen in Facebook’s use of the “Social Graph.” This graph models the platform’s entire network, with nodes symbolizing users, groups, pages, or events, and edges representing different interactions like comments, likes, shares, and friendships. \n",
    "\n",
    "## By leveraging graph-based algorithms, Facebook can recommend new friends based on shared connections, suggest relevant pages or groups aligned with user interests, and uncover communities or user clusters with similar behaviors. These same techniques also help identify influential users, flag suspicious or fake accounts, and personalize content to boost user engagement.\n",
    "\n",
    "## Through the use of social network analysis, platforms such as Facebook are able to uncover detailed insights into user interactions and community dynamics, allowing for more informed decisions around feature development, content distribution, and platform security.\n",
    "\n"
   ]
  }
 ],
 "metadata": {
  "language_info": {
   "name": "python"
  }
 },
 "nbformat": 4,
 "nbformat_minor": 2
}
