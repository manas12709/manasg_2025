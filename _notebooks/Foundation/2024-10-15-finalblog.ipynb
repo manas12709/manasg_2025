{
 "cells": [
  {
   "cell_type": "raw",
   "metadata": {
    "vscode": {
     "languageId": "raw"
    }
   },
   "source": [
    "---\n",
    "layout: post\n",
    "title: Blog of Blogs\n",
    "description:  Final Blog for Sprint 2  \n",
    "courses: { csp: {week 1} } \n",
    "comments: true\n",
    "sticky_rank: 1\n",
    "toc: false\n",
    "permalink: /blogofblogs/\n",
    "---"
   ]
  },
  {
   "cell_type": "raw",
   "metadata": {
    "vscode": {
     "languageId": "raw"
    }
   },
   "source": [
    "{% include nav/summary.html %}\n"
   ]
  },
  {
   "cell_type": "markdown",
   "metadata": {
    "vscode": {
     "languageId": "raw"
    }
   },
   "source": [
    "<img width=\"837\" alt=\"image\" src=\"https://github.com/user-attachments/assets/598d245a-0a6d-4bab-a0a7-5a2ea648c174\">\n",
    "\n",
    "<img width=\"843\" alt=\"image\" src=\"https://github.com/user-attachments/assets/dd4d718e-9773-4b59-9fd0-30be75a9d3ad\">\n"
   ]
  },
  {
   "cell_type": "markdown",
   "metadata": {},
   "source": [
    "<style>\n",
    "    /* Make the entire page background black */\n",
    "    body {\n",
    "        background-color: #000000 !important; /* Black page background */\n",
    "        color: #ffffff !important; /* Default white text color */\n",
    "    }\n",
    "\n",
    "    article {\n",
    "        background-color: #000000 !important; /* Black background for article */\n",
    "        border: 3px solid #4b0082 !important; /* Dark purple border */\n",
    "        padding: 25px !important;\n",
    "        border-radius: 50px !important;\n",
    "    }\n",
    "\n",
    "    article h1 {\n",
    "        color: #ffffff !important; /* White header */\n",
    "    }\n",
    "\n",
    "    article h2, h3, h4, p {\n",
    "        color: #ffffff !important; /* White text */\n",
    "    }\n",
    "\n",
    "    article ul, ol, li {\n",
    "        background-color: #4b0082 !important; /* Dark purple for lists */\n",
    "        border-left: 5px solid #800080 !important; /* Slightly lighter purple list border */\n",
    "        color: #ffffff !important; /* White list text */\n",
    "        padding: 12px 25px !important;\n",
    "        margin: 12px 0 !important;\n",
    "        border-radius: 50px !important;\n",
    "    }\n",
    "\n",
    "    article .center-text {\n",
    "        text-align: center !important;\n",
    "    }\n",
    "\n",
    "    article summary {\n",
    "        color: #ffffff !important; /* White summary */\n",
    "    }\n",
    "\n",
    "    article code {\n",
    "        color: #ffffff !important; /* White code text */\n",
    "        background-color: #800080 !important; /* Darker purple background for code */\n",
    "        padding: 3px 6px !important;\n",
    "        border-radius: 50px !important;\n",
    "    }\n",
    "</style>\n"
   ]
  }
 ],
 "metadata": {
  "language_info": {
   "name": "python"
  }
 },
 "nbformat": 4,
 "nbformat_minor": 2
}
