{
 "cells": [
  {
   "cell_type": "raw",
   "metadata": {
    "vscode": {
     "languageId": "raw"
    }
   },
   "source": [
    "---\n",
    "layout: post\n",
    "title: Blog of Blogs\n",
    "description:  Final Blog for Sprint 2  \n",
    "courses: { csp: {week 1} } \n",
    "comments: true\n",
    "sticky_rank: 1\n",
    "toc: false\n",
    "permalink: /blogofblogs/\n",
    "---"
   ]
  },
  {
   "cell_type": "raw",
   "metadata": {
    "vscode": {
     "languageId": "raw"
    }
   },
   "source": [
    "{% include nav/summary.html %}"
   ]
  },
  {
   "cell_type": "markdown",
   "metadata": {
    "vscode": {
     "languageId": "raw"
    }
   },
   "source": [
    "<img width=\"837\" alt=\"image\" src=\"https://github.com/user-attachments/assets/598d245a-0a6d-4bab-a0a7-5a2ea648c174\">\n",
    "\n",
    "<img width=\"843\" alt=\"image\" src=\"https://github.com/user-attachments/assets/dd4d718e-9773-4b59-9fd0-30be75a9d3ad\">\n"
   ]
  }
 ],
 "metadata": {
  "language_info": {
   "name": "python"
  }
 },
 "nbformat": 4,
 "nbformat_minor": 2
}
