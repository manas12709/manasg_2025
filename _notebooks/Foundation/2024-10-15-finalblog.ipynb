{
 "cells": [
  {
   "cell_type": "raw",
   "metadata": {
    "vscode": {
     "languageId": "raw"
    }
   },
   "source": [
    "---\n",
    "layout: post\n",
    "title: Blog of Blogs\n",
    "description:  Final Blog for Sprint 2  \n",
    "courses: { csp: {week 1} } \n",
    "comments: true\n",
    "sticky_rank: 1\n",
    "toc: false\n",
    "permalink: /blogofblogs/\n",
    "---"
   ]
  },
  {
   "cell_type": "raw",
   "metadata": {
    "vscode": {
     "languageId": "raw"
    }
   },
   "source": [
    "{% include nav/summary.html %}"
   ]
  },
  {
   "cell_type": "markdown",
   "metadata": {},
   "source": [
    "![image](https://github.com/user-attachments/assets/24cbf598-88b9-4659-add3-982702226731)\n",
    "\n",
    "<img width=\"802\" alt=\"image\" src=\"https://github.com/user-attachments/assets/7f646048-3216-407d-ac34-352d7ff1c4ea\">"
   ]
  }
 ],
 "metadata": {
  "language_info": {
   "name": "python"
  }
 },
 "nbformat": 4,
 "nbformat_minor": 2
}
