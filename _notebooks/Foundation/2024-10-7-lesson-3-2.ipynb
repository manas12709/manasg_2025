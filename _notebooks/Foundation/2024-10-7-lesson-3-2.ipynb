{
 "cells": [
  {
   "cell_type": "raw",
   "metadata": {
    "vscode": {
     "languageId": "raw"
    }
   },
   "source": [
    "---\n",
    "layout: post\n",
    "title: 3.2 Homework and Popcorn Hacks  \n",
    "description:  Homework and Popcorn Hacks \n",
    "courses: { csp: {week 1} } \n",
    "comments: true\n",
    "sticky_rank: 1\n",
    "toc: false\n",
    "permalink: /lesson/3-2/\n",
    "---"
   ]
  },
  {
   "cell_type": "markdown",
   "metadata": {
    "vscode": {
     "languageId": "raw"
    }
   },
   "source": [
    "<h2>3.2 Popcorn Hacks</h2>"
   ]
  },
  {
   "cell_type": "code",
   "execution_count": 5,
   "metadata": {},
   "outputs": [
    {
     "name": "stdout",
     "output_type": "stream",
     "text": [
      "bananas\n"
     ]
    }
   ],
   "source": [
    "# Assigning the keys\n",
    "fruits = {\n",
    "    1: 'bananas',\n",
    "    2: 'apples',\n",
    "    3: 'pears'\n",
    "}\n",
    "\n",
    "# Accessing the value corresponding to key 1\n",
    "print(fruits[1])  # Output: bananas\n"
   ]
  },
  {
   "cell_type": "code",
   "execution_count": 4,
   "metadata": {
    "vscode": {
     "languageId": "javascript"
    }
   },
   "outputs": [
    {
     "data": {
      "application/javascript": "\nfunction calculator(num1, num2, operator) {\n    switch(operator) {\n        case '+':\n            return num1 + num2;\n        case '-':\n            return num1 - num2;\n        case '*':\n            return num1 * num2;\n        case '/':\n            return num1 / num2;\n        default:\n            return \"Invalid operator\";\n    }\n}\n\nconsole.log(calculator(10, 5, '+'));  // Output: 15\nconsole.log(calculator(10, 5, '/'));  // Output: 2\n",
      "text/plain": [
       "<IPython.core.display.Javascript object>"
      ]
     },
     "metadata": {},
     "output_type": "display_data"
    }
   ],
   "source": [
    "%%javascript\n",
    "\n",
    "function calculator(num1, num2, operator) {\n",
    "    switch(operator) {\n",
    "        case '+':\n",
    "            return num1 + num2;\n",
    "        case '-':\n",
    "            return num1 - num2;\n",
    "        case '*':\n",
    "            return num1 * num2;\n",
    "        case '/':\n",
    "            return num1 / num2;\n",
    "        default:\n",
    "            return \"Invalid operator\";\n",
    "    }\n",
    "}\n",
    "\n",
    "console.log(calculator(10, 5, '+'));  // Output: 15\n",
    "console.log(calculator(10, 5, '/'));  // Output: 2\n"
   ]
  },
  {
   "cell_type": "code",
   "execution_count": 3,
   "metadata": {},
   "outputs": [
    {
     "name": "stdout",
     "output_type": "stream",
     "text": [
      "15\n",
      "2.0\n"
     ]
    }
   ],
   "source": [
    "def calculator(num1, num2, operator):\n",
    "    if operator == '+':\n",
    "        return num1 + num2\n",
    "    elif operator == '-':\n",
    "        return num1 - num2\n",
    "    elif operator == '*':\n",
    "        return num1 * num2\n",
    "    elif operator == '/':\n",
    "        return num1 / num2\n",
    "    else:\n",
    "        return \"Invalid operator\"\n",
    "\n",
    "print(calculator(10, 5, '+'))  # Output: 15\n",
    "print(calculator(10, 5, '/'))  # Output: 2.0\n"
   ]
  },
  {
   "cell_type": "code",
   "execution_count": 2,
   "metadata": {},
   "outputs": [
    {
     "name": "stdout",
     "output_type": "stream",
     "text": [
      "['appleapple', 'bananabanana', 'pearpear']\n"
     ]
    }
   ],
   "source": [
    "def repeat_strings(lst, n):\n",
    "    return [string * n for string in lst]\n",
    "\n",
    "# Example usage:\n",
    "strings = ['apple', 'banana', 'pear']\n",
    "n = 2\n",
    "print(repeat_strings(strings, n))  # Output: ['appleapple', 'bananabanana', 'pearpear']\n"
   ]
  },
  {
   "cell_type": "code",
   "execution_count": 1,
   "metadata": {},
   "outputs": [
    {
     "name": "stdout",
     "output_type": "stream",
     "text": [
      "True\n",
      "False\n"
     ]
    }
   ],
   "source": [
    "def sets_have_common_elements(set1, set2):\n",
    "    return not set1.isdisjoint(set2)\n",
    "\n",
    "# Example usage:\n",
    "print(sets_have_common_elements({1, 2, 3}, {3, 4}))  # Output: True\n",
    "print(sets_have_common_elements({1, 2, 3}, {4, 5}))  # Output: False\n"
   ]
  },
  {
   "cell_type": "markdown",
   "metadata": {},
   "source": [
    "<h2>Homework Hacks for 3.2</h2>"
   ]
  },
  {
   "cell_type": "code",
   "execution_count": 20,
   "metadata": {},
   "outputs": [
    {
     "name": "stdout",
     "output_type": "stream",
     "text": [
      "{'name': 'Manas', 'age': 16, 'city': 'San Diego', 'favorite_color': 'Blue'}\n"
     ]
    }
   ],
   "source": [
    "# Part 1: Creating the Profile Dictionary\n",
    "profile = {\n",
    "    \"name\": \"Manas\",\n",
    "    \"age\": 16,\n",
    "    \"city\": \"San Diego\",\n",
    "    \"favorite_color\": \"Blue\"\n",
    "}\n",
    "print(profile)\n"
   ]
  },
  {
   "cell_type": "code",
   "execution_count": 21,
   "metadata": {},
   "outputs": [
    {
     "name": "stdout",
     "output_type": "stream",
     "text": [
      "['mountain biking', 'coding', 'video games']\n"
     ]
    }
   ],
   "source": [
    "# Part 2: Creating a list of hobbies\n",
    "hobbies = [\"mountain biking\", \"coding\", \"video games\"]\n",
    "print(hobbies)\n"
   ]
  },
  {
   "cell_type": "code",
   "execution_count": 22,
   "metadata": {},
   "outputs": [
    {
     "name": "stdout",
     "output_type": "stream",
     "text": [
      "{'name': 'Manas', 'age': 16, 'city': 'San Diego', 'favorite_color': 'Blue', 'hobbies': ['mountain biking', 'coding', 'video games']}\n"
     ]
    }
   ],
   "source": [
    "# Part 3: Adding hobbies to the profile dictionary\n",
    "profile[\"hobbies\"] = hobbies\n",
    "print(profile)\n"
   ]
  },
  {
   "cell_type": "code",
   "execution_count": 23,
   "metadata": {},
   "outputs": [
    {
     "name": "stdout",
     "output_type": "stream",
     "text": [
      "Is mountain biking available today? True\n"
     ]
    }
   ],
   "source": [
    "# Part 4: Checking if a hobby is available\n",
    "has_hobby = True  # assuming mountain biking is available today\n",
    "print(f\"Is mountain biking available today? {has_hobby}\")\n"
   ]
  },
  {
   "cell_type": "code",
   "execution_count": 24,
   "metadata": {},
   "outputs": [
    {
     "name": "stdout",
     "output_type": "stream",
     "text": [
      "I have 3 hobbies.\n"
     ]
    }
   ],
   "source": [
    "# Part 5: Calculating the total number of hobbies\n",
    "total_hobbies = len(hobbies)\n",
    "print(f\"I have {total_hobbies} hobbies.\")\n"
   ]
  },
  {
   "cell_type": "code",
   "execution_count": 25,
   "metadata": {},
   "outputs": [
    {
     "name": "stdout",
     "output_type": "stream",
     "text": [
      "('mountain biking', 'coding')\n"
     ]
    }
   ],
   "source": [
    "# Part 6: Creating a tuple of favorite hobbies\n",
    "favorite_hobbies = (\"mountain biking\", \"coding\")\n",
    "print(favorite_hobbies)\n"
   ]
  },
  {
   "cell_type": "code",
   "execution_count": 26,
   "metadata": {},
   "outputs": [
    {
     "name": "stdout",
     "output_type": "stream",
     "text": [
      "{'problem-solving', 'public speaking', 'data analysis'}\n"
     ]
    }
   ],
   "source": [
    "# Part 7: Adding skills to the profile\n",
    "skills = {\"problem-solving\", \"data analysis\", \"public speaking\"}\n",
    "print(skills)\n"
   ]
  },
  {
   "cell_type": "code",
   "execution_count": 27,
   "metadata": {},
   "outputs": [
    {
     "name": "stdout",
     "output_type": "stream",
     "text": [
      "None\n"
     ]
    }
   ],
   "source": [
    "# Part 8: Deciding on a new skill\n",
    "new_skill = None\n",
    "print(new_skill)\n"
   ]
  },
  {
   "cell_type": "code",
   "execution_count": 28,
   "metadata": {},
   "outputs": [
    {
     "name": "stdout",
     "output_type": "stream",
     "text": [
      "The total cost for developing hobbies and skills is: $45.00\n"
     ]
    }
   ],
   "source": [
    "# Part 9: Calculating the total cost for hobbies and skills\n",
    "hobby_cost = 5  # cost per hobby\n",
    "skill_cost = 10  # cost per skill\n",
    "total_cost = (len(hobbies) * hobby_cost) + (len(skills) * skill_cost)\n",
    "print(f\"The total cost for developing hobbies and skills is: ${total_cost:.2f}\")\n"
   ]
  },
  {
   "cell_type": "markdown",
   "metadata": {},
   "source": [
    "<h2>Bonus Homework</h2>"
   ]
  },
  {
   "cell_type": "code",
   "execution_count": 18,
   "metadata": {
    "vscode": {
     "languageId": "javascript"
    }
   },
   "outputs": [
    {
     "data": {
      "application/javascript": "\nlet profile = {\n    name: \"Manas\",\n    age: 16,\n    city: \"San Diego\",\n    favorite_color: \"Blue\"\n};\nconsole.log(profile);\n",
      "text/plain": [
       "<IPython.core.display.Javascript object>"
      ]
     },
     "metadata": {},
     "output_type": "display_data"
    }
   ],
   "source": [
    "%%javascript\n",
    "\n",
    "let profile = {\n",
    "    name: \"Manas\",\n",
    "    age: 16,\n",
    "    city: \"San Diego\",\n",
    "    favorite_color: \"Blue\"\n",
    "};\n",
    "console.log(profile);\n"
   ]
  },
  {
   "cell_type": "code",
   "execution_count": 17,
   "metadata": {
    "vscode": {
     "languageId": "javascript"
    }
   },
   "outputs": [
    {
     "data": {
      "application/javascript": "\nlet hobbies = [\"mountain biking\", \"coding\", \"video games\"];\nconsole.log(hobbies);\n",
      "text/plain": [
       "<IPython.core.display.Javascript object>"
      ]
     },
     "metadata": {},
     "output_type": "display_data"
    }
   ],
   "source": [
    "%%javascript \n",
    "\n",
    "let hobbies = [\"mountain biking\", \"coding\", \"video games\"];\n",
    "console.log(hobbies);"
   ]
  },
  {
   "cell_type": "code",
   "execution_count": 16,
   "metadata": {
    "vscode": {
     "languageId": "javascript"
    }
   },
   "outputs": [
    {
     "data": {
      "application/javascript": "\nprofile.hobbies = hobbies;\nconsole.log(profile);\n",
      "text/plain": [
       "<IPython.core.display.Javascript object>"
      ]
     },
     "metadata": {},
     "output_type": "display_data"
    }
   ],
   "source": [
    "%%javascript\n",
    "\n",
    "profile.hobbies = hobbies;\n",
    "console.log(profile);"
   ]
  },
  {
   "cell_type": "code",
   "execution_count": 15,
   "metadata": {
    "vscode": {
     "languageId": "javascript"
    }
   },
   "outputs": [
    {
     "data": {
      "application/javascript": "\nlet has_hobby = true;  // Assuming mountain biking is available today\nconsole.log(`Is mountain biking available today? ${has_hobby}`);\n",
      "text/plain": [
       "<IPython.core.display.Javascript object>"
      ]
     },
     "metadata": {},
     "output_type": "display_data"
    }
   ],
   "source": [
    "%%javascript\n",
    "\n",
    "let has_hobby = true;  // Assuming mountain biking is available today\n",
    "console.log(`Is mountain biking available today? ${has_hobby}`);\n"
   ]
  },
  {
   "cell_type": "code",
   "execution_count": 14,
   "metadata": {
    "vscode": {
     "languageId": "javascript"
    }
   },
   "outputs": [
    {
     "data": {
      "application/javascript": "\nlet total_hobbies = hobbies.length;\nconsole.log(`I have ${total_hobbies} hobbies.`);\n",
      "text/plain": [
       "<IPython.core.display.Javascript object>"
      ]
     },
     "metadata": {},
     "output_type": "display_data"
    }
   ],
   "source": [
    "%%javascript\n",
    "\n",
    "let total_hobbies = hobbies.length;\n",
    "console.log(`I have ${total_hobbies} hobbies.`);"
   ]
  },
  {
   "cell_type": "code",
   "execution_count": 13,
   "metadata": {
    "vscode": {
     "languageId": "javascript"
    }
   },
   "outputs": [
    {
     "data": {
      "application/javascript": "\nlet favorite_hobbies = [\"mountain biking\", \"coding\"];\nconsole.log(favorite_hobbies);\n",
      "text/plain": [
       "<IPython.core.display.Javascript object>"
      ]
     },
     "metadata": {},
     "output_type": "display_data"
    }
   ],
   "source": [
    "%%javascript\n",
    "\n",
    "let favorite_hobbies = [\"mountain biking\", \"coding\"];\n",
    "console.log(favorite_hobbies);"
   ]
  },
  {
   "cell_type": "code",
   "execution_count": 12,
   "metadata": {
    "vscode": {
     "languageId": "javascript"
    }
   },
   "outputs": [
    {
     "data": {
      "application/javascript": "\nlet skills = new Set([\"problem-solving\", \"data analysis\", \"public speaking\"]);\nconsole.log(skills);\n",
      "text/plain": [
       "<IPython.core.display.Javascript object>"
      ]
     },
     "metadata": {},
     "output_type": "display_data"
    }
   ],
   "source": [
    "%%javascript\n",
    "\n",
    "let skills = new Set([\"problem-solving\", \"data analysis\", \"public speaking\"]);\n",
    "console.log(skills);"
   ]
  },
  {
   "cell_type": "code",
   "execution_count": 11,
   "metadata": {
    "vscode": {
     "languageId": "javascript"
    }
   },
   "outputs": [
    {
     "data": {
      "application/javascript": "\nlet new_skill = null;\nconsole.log(new_skill);\n",
      "text/plain": [
       "<IPython.core.display.Javascript object>"
      ]
     },
     "metadata": {},
     "output_type": "display_data"
    }
   ],
   "source": [
    "%%javascript \n",
    "\n",
    "let new_skill = null;\n",
    "console.log(new_skill);"
   ]
  },
  {
   "cell_type": "code",
   "execution_count": 10,
   "metadata": {
    "vscode": {
     "languageId": "javascript"
    }
   },
   "outputs": [
    {
     "data": {
      "application/javascript": "\nlet hobby_cost = 5;  // cost per hobby\nlet skill_cost = 10;  // cost per skill\nlet total_cost = (hobbies.length * hobby_cost) + (skills.size * skill_cost);\nconsole.log(`The total cost for developing hobbies and skills is: $${total_cost}`);\n",
      "text/plain": [
       "<IPython.core.display.Javascript object>"
      ]
     },
     "metadata": {},
     "output_type": "display_data"
    }
   ],
   "source": [
    "%%javascript\n",
    "\n",
    "let hobby_cost = 5;  // cost per hobby\n",
    "let skill_cost = 10;  // cost per skill\n",
    "let total_cost = (hobbies.length * hobby_cost) + (skills.size * skill_cost);\n",
    "console.log(`The total cost for developing hobbies and skills is: $${total_cost}`);"
   ]
  },
  {
   "cell_type": "markdown",
   "metadata": {},
   "source": [
    "<style>\n",
    "@import url('jekyll-theme-cayman.scss');\n",
    "</style>\n"
   ]
  }
 ],
 "metadata": {
  "kernelspec": {
   "display_name": "venv",
   "language": "python",
   "name": "python3"
  },
  "language_info": {
   "codemirror_mode": {
    "name": "ipython",
    "version": 3
   },
   "file_extension": ".py",
   "mimetype": "text/x-python",
   "name": "python",
   "nbconvert_exporter": "python",
   "pygments_lexer": "ipython3",
   "version": "3.12.5"
  }
 },
 "nbformat": 4,
 "nbformat_minor": 2
}
