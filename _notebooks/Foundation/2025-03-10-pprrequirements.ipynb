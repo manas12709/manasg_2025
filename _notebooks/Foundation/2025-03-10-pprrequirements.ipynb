{
 "cells": [
  {
   "cell_type": "raw",
   "metadata": {
    "vscode": {
     "languageId": "raw"
    }
   },
   "source": [
    "---\n",
    "layout: post\n",
    "title: PPR Requirements\n",
    "description: Validating the requirements for the PPR\n",
    "permalink: /manasppr/\n",
    "comments: true\n",
    "---"
   ]
  },
  {
   "cell_type": "markdown",
   "metadata": {},
   "source": [
    "## Validating Understanding of the PPR \n",
    "\n",
    "<h2>Guidelines for the PPR</h2>\n",
    "<ul>\n",
    "    <li>Collaboration among students is prohibited on the PPR.</li>\n",
    "    <li>The PPR must not contain any course content, code comments, or notes from reference materials.</li>\n",
    "    <li>The PPR should be printed single-sided to prevent ink from showing through the page.</li>\n",
    "    <li>Each student's PPR should clearly display their name and AP ID.</li>\n",
    "    <li>Color printing is recommended for students who created projects using block-based programming languages.</li>\n",
    "    <li>AP coordinators must print the PPR for every student before the exam date.</li>\n",
    "    <li>On the day of the exam, AP coordinators must provide the proctor with each student’s printed PPR.</li>\n",
    "</ul>\n",
    "\n",
    "<h2>PPR on the Exam</h2>\n",
    "<ul>\n",
    "    <li>Students can use their PPR when answering the written response questions during the exam.</li>\n",
    "    <li>The scoring criteria for written responses change annually and are not disclosed beforehand.</li>\n",
    "</ul>"
   ]
  }
 ],
 "metadata": {
  "language_info": {
   "name": "python"
  }
 },
 "nbformat": 4,
 "nbformat_minor": 2
}
