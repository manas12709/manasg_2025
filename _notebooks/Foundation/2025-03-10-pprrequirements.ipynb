{
 "cells": [
  {
   "cell_type": "raw",
   "metadata": {
    "vscode": {
     "languageId": "raw"
    }
   },
   "source": [
    "---\n",
    "layout: post\n",
    "title: PPR Requirements\n",
    "description: Validating the requirements for the PPR\n",
    "permalink: /manasppr/\n",
    "comments: true\n",
    "---"
   ]
  },
  {
   "cell_type": "markdown",
   "metadata": {},
   "source": [
    "## Validating Understanding of the PPR \n",
    "\n",
    "<h2>Guidelines for the PPR</h2>\n",
    "<ul>\n",
    "    <li>Collaboration among students is prohibited on the PPR.</li>\n",
    "    <li>The PPR must not contain any course content, code comments, or notes from reference materials.</li>\n",
    "    <li>The PPR should be printed single-sided to prevent ink from showing through the page.</li>\n",
    "    <li>Each student's PPR should clearly display their name and AP ID.</li>\n",
    "    <li>Color printing is recommended for students who created projects using block-based programming languages.</li>\n",
    "    <li>AP coordinators must print the PPR for every student before the exam date.</li>\n",
    "    <li>On the day of the exam, AP coordinators must provide the proctor with each student’s printed PPR.</li>\n",
    "</ul>\n",
    "\n",
    "<h2>PPR on the Exam</h2>\n",
    "<ul>\n",
    "    <li>Students can use their PPR when answering the written response questions during the exam.</li>\n",
    "    <li>The scoring criteria for written responses change annually and are not disclosed beforehand.</li>\n",
    "</ul>"
   ]
  },
  {
   "cell_type": "markdown",
   "metadata": {},
   "source": [
    "# Implementing Key Programming Concepts in Flask with SQLite\n",
    "\n",
    "## 1. Student-Developed Procedure Implementation\n",
    "\n",
    "### Procedure Definition\n"
   ]
  },
  {
   "cell_type": "markdown",
   "metadata": {
    "vscode": {
     "languageId": "raw"
    }
   },
   "source": [
    "\n",
    "\n",
    "```javascript\n",
    "async function generateQuestion() {\n",
    "    // Get the dropdown element for topic selection\n",
    "    const topicSelect = document.getElementById('topicSelect'); \n",
    "    // Get the element where the generated question will be displayed\n",
    "    const questionBox = document.getElementById('questionBox'); \n",
    "    // Retrieve the selected topic from the dropdown\n",
    "    const selectedTopic = topicSelect.value; \n",
    "\n",
    "    // Check if a topic is selected\n",
    "    if (!selectedTopic) {\n",
    "        // Prompt the user to select a topic if none is selected\n",
    "        questionBox.textContent = \"Please select a topic first!\"; \n",
    "        return; // Exit the function if no topic is selected\n",
    "    }\n",
    "\n",
    "    // Indicate that the question is being generated\n",
    "    questionBox.textContent = \"Generating question...\"; \n",
    "\n",
    "    try {\n",
    "        // Call the API to generate a question based on the selected topic\n",
    "        const question = await sendToGeminiAPI(selectedTopic);\n",
    "        // Display the generated question in the question box\n",
    "        questionBox.textContent = question; \n",
    "    } catch (error) {\n",
    "        // Handle any errors that occur during the API call\n",
    "        console.error('Error generating question:', error);\n",
    "        questionBox.textContent = \"An error occurred while generating the question. Please try again.\"; // Display error message\n",
    "    }\n",
    "}\n",
    "```"
   ]
  },
  {
   "cell_type": "markdown",
   "metadata": {},
   "source": [
    "### Explanation of the Procedure\n",
    "\n",
    "1. **Get Elements**: The function retrieves the dropdown menu for topic selection and the question display area using `document.getElementById`.\n",
    "\n",
    "2. **Check Selection**: It checks if a topic has been selected. If not, it prompts the user to select a topic and exits the function to prevent further execution.\n",
    "\n",
    "3. **Indicate Processing**: The function updates the question display area to inform the user that the question is being generated, providing feedback during the asynchronous operation.\n",
    "\n",
    "4. **API Call**: The function calls `sendToGeminiAPI(selectedTopic)`, which sends the selected topic to the API to generate a question. This is done asynchronously, allowing the function to wait for the response without blocking the UI.\n",
    "\n",
    "5. **Display Question**: Once the question is generated, it updates the question display area with the generated question returned from the API.\n",
    "\n",
    "6. **Error Handling**: If an error occurs during the API call, the function catches the error, logs it to the console, and updates the question display area with an error message, ensuring the user is informed of any issues."
   ]
  },
  {
   "cell_type": "markdown",
   "metadata": {},
   "source": [
    "### Procedure Call"
   ]
  },
  {
   "cell_type": "markdown",
   "metadata": {},
   "source": [
    "\n",
    "\n",
    "```javascript\n",
    "// Function to handle the button click event for generating a question\n",
    "document.getElementById('generate-btn').addEventListener('click', function() {\n",
    "    // Call the generateQuestion function when the button is clicked\n",
    "    generateQuestion(); \n",
    "});\n",
    "```"
   ]
  },
  {
   "cell_type": "markdown",
   "metadata": {},
   "source": [
    "### Explanation of the Procedure Call\n",
    "\n",
    "1. **Event Listener**: The code sets up an event listener on the button with the ID `generate-btn`. This listener waits for a click event.\n",
    "\n",
    "2. **Calling the Function**: When the button is clicked, the `generateQuestion` function is called. This triggers the entire process of checking the selected topic, generating a question, and updating the display area.\n",
    "\n",
    "3. **User Interaction**: This interaction allows users to generate a question based on their selected topic, making the application dynamic and responsive to user input."
   ]
  },
  {
   "cell_type": "markdown",
   "metadata": {},
   "source": [
    "## 2. List Usage for Managing Complexity\n",
    "\n",
    "### Storing Data in the List"
   ]
  },
  {
   "cell_type": "markdown",
   "metadata": {},
   "source": [
    "```javascript\n",
    "// List of topics for the dropdown menu\n",
    "const topics = [\n",
    "    { value: \"History\", label: \"History\" },\n",
    "    { value: \"Science\", label: \"Science\" },\n",
    "    { value: \"Technology\", label: \"Technology\" },\n",
    "    { value: \"Literature\", label: \"Literature\" }\n",
    "];\n",
    "\n",
    "// Function to populate the dropdown menu with topics\n",
    "function populateTopicSelect() {\n",
    "    const topicSelect = document.getElementById('topicSelect');\n",
    "    topicSelect.innerHTML = ''; // Clear existing options\n",
    "\n",
    "    // Iterate over the topics list and create option elements\n",
    "    topics.forEach(topic => {\n",
    "        const option = document.createElement('option');\n",
    "        option.value = topic.value; // Set the value for the option\n",
    "        option.textContent = topic.label; // Set the display text for the option\n",
    "        topicSelect.appendChild(option); // Append the option to the dropdown\n",
    "    });\n",
    "}\n",
    "\n",
    "// Call the function to populate the dropdown when the page loads\n",
    "document.addEventListener('DOMContentLoaded', populateTopicSelect);\n",
    "```"
   ]
  },
  {
   "cell_type": "markdown",
   "metadata": {},
   "source": [
    "## Explanation of the List Usage\n",
    "\n",
    "1. **List Definition**: The `topics` array is defined as a list of objects, where each object contains a `value` and a `label`. This structure allows for easy management of topic data.\n",
    "\n",
    "2. **Function to Populate Dropdown**: The `populateTopicSelect` function iterates over the `topics` list. For each topic, it creates an `<option>` element and sets its value and display text based on the properties of the topic object.\n",
    "\n",
    "3. **Dynamic Dropdown Population**: By using a list, the dropdown menu can be easily populated with topics. This approach simplifies the management of topics, making it easy to add, remove, or modify topics without changing the core logic of the dropdown population.\n",
    "\n",
    "4. **Event Listener**: The function is called when the page loads, ensuring that the dropdown is populated with the latest topics as soon as the user interacts with the page."
   ]
  },
  {
   "cell_type": "markdown",
   "metadata": {},
   "source": [
    "### Using data from the list"
   ]
  },
  {
   "cell_type": "markdown",
   "metadata": {},
   "source": [
    "```javascript\n",
    "// Function to generate a question based on the selected topic\n",
    "async function generateQuestion() {\n",
    "    const topicSelect = document.getElementById('topicSelect'); // Get the dropdown element\n",
    "    const questionBox = document.getElementById('questionBox'); // Get the question display area\n",
    "    const selectedTopic = topicSelect.value; // Retrieve the selected topic from the dropdown\n",
    "\n",
    "    // Check if a topic is selected\n",
    "    if (!selectedTopic) {\n",
    "        questionBox.textContent = \"Please select a topic first!\"; // Prompt user to select a topic\n",
    "        return; // Exit the function if no topic is selected\n",
    "    }\n",
    "\n",
    "    questionBox.textContent = \"Generating question...\"; // Indicate that the question is being generated\n",
    "\n",
    "    try {\n",
    "        // Call the API to generate a question based on the selected topic\n",
    "        const question = await sendToGeminiAPI(selectedTopic);\n",
    "        questionBox.textContent = question; // Display the generated question\n",
    "    } catch (error) {\n",
    "        console.error('Error generating question:', error);\n",
    "        questionBox.textContent = \"An error occurred while generating the question. Please try again.\"; // Display error message\n",
    "    }\n",
    "}\n",
    "```"
   ]
  },
  {
   "cell_type": "markdown",
   "metadata": {},
   "source": [
    "## Explanation of How the Data from the List is Used\n",
    "\n",
    "1. **Retrieving Selected Topic**: The `generateQuestion` function retrieves the selected topic from the dropdown menu using `topicSelect.value`. This value corresponds to one of the entries in the `topics` list defined earlier.\n",
    "\n",
    "2. **Validation**: The function checks if a topic has been selected. If not, it prompts the user to select a topic and exits the function to prevent further execution.\n",
    "\n",
    "3. **Generating a Question**: Once a valid topic is selected, the function calls `sendToGeminiAPI(selectedTopic)`, passing the selected topic as an argument. This API call uses the topic data to generate a relevant question.\n",
    "\n",
    "4. **Displaying the Question**: After receiving the generated question from the API, the function updates the `questionBox` element to display the question to the user. This process demonstrates how the data from the list directly influences the application's functionality, allowing users to interactively generate questions based on their interests."
   ]
  }
 ],
 "metadata": {
  "language_info": {
   "name": "python"
  }
 },
 "nbformat": 4,
 "nbformat_minor": 2
}
