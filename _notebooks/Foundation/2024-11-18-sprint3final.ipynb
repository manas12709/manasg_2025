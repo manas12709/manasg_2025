{
 "cells": [
  {
   "cell_type": "raw",
   "metadata": {
    "vscode": {
     "languageId": "raw"
    }
   },
   "source": [
    "---\n",
    "layout: post\n",
    "title: Final Sprint 3 Blog\n",
    "description: Blog for Sprint 3 and 2018 AP MCQ\n",
    "permalink: /sprint3/\n",
    "comments: true\n",
    "---"
   ]
  },
  {
   "cell_type": "markdown",
   "metadata": {},
   "source": [
    "<img width=\"1512\" alt=\"image\" src=\"https://github.com/user-attachments/assets/52498708-6573-4169-8d1d-0bcbf4d91b02\">"
   ]
  },
  {
   "cell_type": "markdown",
   "metadata": {},
   "source": [
    "<style>\n",
    "    /* Make the entire page background black */\n",
    "    body {\n",
    "        background-color: #000000 !important; /* Black page background */\n",
    "        color: #ffffff !important; /* Default white text color */\n",
    "    }\n",
    "\n",
    "    article {\n",
    "        background-color: #000000 !important; /* Black background for article */\n",
    "        border: 3px solid #4b0082 !important; /* Dark purple border */\n",
    "        padding: 25px !important;\n",
    "        border-radius: 50px !important;\n",
    "    }\n",
    "\n",
    "    article h1 {\n",
    "        color: #ffffff !important; /* White header */\n",
    "    }\n",
    "\n",
    "    article h2, h3, h4, p {\n",
    "        color: #ffffff !important; /* White text */\n",
    "    }\n",
    "\n",
    "    article ul, ol, li {\n",
    "        background-color: #4b0082 !important; /* Dark purple for lists */\n",
    "        border-left: 5px solid #800080 !important; /* Slightly lighter purple list border */\n",
    "        color: #ffffff !important; /* White list text */\n",
    "        padding: 12px 25px !important;\n",
    "        margin: 12px 0 !important;\n",
    "        border-radius: 50px !important;\n",
    "    }\n",
    "\n",
    "    article summary {\n",
    "        color: #ffffff !important; /* White summary */\n",
    "    }\n",
    "\n",
    "    article code {\n",
    "        color: #ffffff !important; /* White code text */\n",
    "        background-color: #800080 !important; /* Darker purple background for code */\n",
    "        padding: 3px 6px !important;\n",
    "        border-radius: 50px !important;\n",
    "    }\n",
    "</style>\n",
    "\n",
    "<article>\n",
    "    <h1 class=\"center-text\">Reflection on 2018 Practice Exam MCQ</h1>\n",
    "    <ul>\n",
    "        <li>Scoring 66/66 on the practice exam is a big accomplishment for me, and it reflects the hard work I've put into preparing for this course.</li>\n",
    "        <li>This perfect score shows that I’ve mastered key concepts and can confidently apply them to solve problems.</li>\n",
    "        <li>It’s encouraging because it means my strategies, like consistent practice and identifying weak areas, are paying off.</li>\n",
    "        <li>It gives me confidence for the AP exam since I now know I can perform well under timed conditions.</li>\n",
    "        <li>Moving forward, I’ll use this as motivation to keep sharpening my skills, practicing more advanced problems, and maintaining this level of preparation.</li>\n",
    "    </ul>\n",
    "</article>\n"
   ]
  }
 ],
 "metadata": {
  "language_info": {
   "name": "python"
  }
 },
 "nbformat": 4,
 "nbformat_minor": 2
}
